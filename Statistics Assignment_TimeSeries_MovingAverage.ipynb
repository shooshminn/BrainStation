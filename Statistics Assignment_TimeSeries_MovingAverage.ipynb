{
 "cells": [
  {
   "cell_type": "markdown",
   "metadata": {
    "colab_type": "text",
    "id": "enD6N3SDqJ0M"
   },
   "source": [
    "<div id=\"container\" style=\"position:relative;\">\n",
    "<div style=\"float:left\"><h1>  Statistics </h1></div>\n",
    "<div style=\"position:relative; float:right\"><img style=\"height:65px\" src =\"https://drive.google.com/uc?export=view&id=1EnB0x-fdqMp6I5iMoEBBEuxB_s7AmE2k\" />\n",
    "</div>\n",
    "</div>\n"
   ]
  },
  {
   "cell_type": "code",
   "execution_count": 1,
   "metadata": {
    "colab": {},
    "colab_type": "code",
    "id": "XUXSs93HqJ0O"
   },
   "outputs": [],
   "source": [
    "import numpy as np\n",
    "import pandas as pd\n",
    "from scipy import stats\n",
    "import matplotlib.pyplot as plt\n",
    "import seaborn as sns"
   ]
  },
  {
   "cell_type": "markdown",
   "metadata": {
    "colab_type": "text",
    "id": "z2jMTrfXqJ16"
   },
   "source": [
    "# Assignment 6\n",
    "1. Definition reminder: given a time-series data set, with an $N$-period moving average $\\mu_N$ and an $N$-period standard deviation $\\sigma_N$, the *K-Upper Bollinger Bands* are defined as the rolling computation $(\\mu_N + K\\sigma_N)$ for some $K=1,2,\\ldots$. Similarly, the *K-Lower Bollinger Bands* are $(\\mu_N - K\\sigma_N)$.  Load in the `timeseries_1.csv` price series, and create two new columns which are the first upper and lower Bollinger bands on a 4-minute level computed on the *open* price.  Create another column which has `True` if the high of any given minute is above the upper Bollinger band value, and `False` if not.\n",
    "\n",
    "2. Consider the following set of data:<br>\n",
    "```\n",
    "[31.64318274,  52.38028382,  52.06990842,  49.38683521, 66.2809943,  56.28673623,  56.31535831,  47.61107798, 51.22059076,  72.74444307,  44.92132396,  44.7806115, 55.06875272,  53.30195541,  48.82836245,  56.5645093 ,58.60658527,  51.25941697,  31.19829968,  71.44567964,  50.90570844,  41.50918145,  46.12808914,  38.29642645, 74.76853757,  56.09746354,  49.40810407,  41.91971301,  59.79453349,  71.42976646,  84.08722246,  66.11230252, 52.09783487,  66.50079773,  47.23055517,  42.41625807,  34.99316584,  39.61756471,  51.67965582,  57.67403776, 60.54283988,  40.30238293,  46.61520191,  55.6952267,  43.87997719,  45.23675992,  59.35864021,  31.31812861, 74.5603146, 62.91095588]\n",
    "```\n",
    "<br>\n",
    "    Use the Interquartile Method to find any possible outliers.  If there are any outliers, how many standard deviations away from the mean are they?\n",
    "\n",
    "\n",
    "3. Load up the file `cordf.csv` file to answer these questions.\n",
    "  1.  Create a correlation matrix to describe how the variables in this file are correlated to each other. Which pair of columns is the most correlated? Which is the least? Note the ambiguity in this question: what does it mean for one pair to be \"more correlated\" than another?\n",
    "  2.  Create 5 scatterplots with the variable U on the x-axis in each, and the rest of the variables on the y-axes. Describe the relationship between the variables in each scatterplot. Compare and contrast your findings with the expectations you formed in question 1. Note: pandas has a cool function in `pandas.plotting.scatter_matrix` that can do this kind of thing really fast. Make all the scatterplots by hand this time around, but play around with scattermatrix too when you're done to see how it works. Check out the docs here: http://pandas.pydata.org/pandas-docs/stable/visualization.html?highlight=color#scatter-matrix-plot\n",
    "  3.  Taking what you find in parts A and B together, what can you surmise about what exactly is measured by the correlation coefficient? What do you think you can say about the relationship between two variables if the correlation coefficient is close to 1? Close to -1? Close to 0?\n",
    "  4.  Are there transformations that you could apply to any of the variables V, W, X, Y, or Z such that the transformed variables would have a higher correlation with U? Why or why not?\n",
    "  \n",
    "  \n",
    "4. Consider the following data set: <br>\n",
    "```\n",
    "dfcl = pd.DataFrame({'CL Price': [35, 63, 48, 46, 66, 65, 35, 65, 50, 68, 43, 57, 39, 35, 68, 95, 56, 50, 42, 38, 47, 42, 39, 44, 52, 68, 49, 34, 39, 59, 60, 60, 60, 63, 58, 38, 37, 33, 36, 64, 38, 51, 60, 62, 65, 43, 38, 41, 48, 61]}\n",
    "```\n",
    "<br>\n",
    "    Are there any values more than 3 standard deviations away from the mean? If so, can we conclude they are outliers?\n",
    "\n",
    "\n",
    "5. 1. We are investigating the time spent on our website by a group of visitors. We would like to know if the amount of time spent in seconds is greater than our competitor, who has published the mean time spent as 120 seconds. We have data for 100 of our website visitors: <br>\n",
    "```\n",
    "time_spent = np.array([139.43, 106.18, 158.65, 123.75, 115.59, 147.74, 147.19, 117.27,\n",
    "                       130.31,  85.15, 153., 149.84, 149.07,  89.57, 123.32, 130.04,\n",
    "                       138.11, 135.78, 156.42,  99.06, 125.95, 116.88, 133.87, 141.07,\n",
    "                       156.36, 120.61, 143.51,  93.66, 126.34, 151.18, 122.04, 136.75,\n",
    "                       150.95, 150.92, 147.27, 127.56, 132.49, 123.54, 146.83, 177.82,\n",
    "                       131.52, 118.67, 130.72,  88.5, 134.96, 112.06, 127.26, 130.37,\n",
    "                       145.11, 134.31, 146.82, 101.08, 101.96, 127.98, 119.04, 127.11,\n",
    "                       137.08, 129.29, 141.31, 160.91, 110.52, 128.59, 136.16, 125.83,\n",
    "                       150.68,  81.99, 170.61, 107.15, 134.24, 144.09, 114.29, 139.24,\n",
    "                       144.08, 140.47, 111.47, 170.16, 134.54, 106.95, 142.64, 130.79,\n",
    "                       139.29,  58.73, 156.42, 133.05, 133.29, 121.4, 145.35, 149.7,\n",
    "                       135.42, 157.84, 131.6, 122., 109.44, 118.31, 146.33, 128.36,\n",
    "                       123.1, 140.57, 108.62, 119.76])\n",
    "```    \n",
    "       <br>Plot the time spent on the website as a histogram. Choose an appropriate test to infer whether time spent on our website is truly different from our competitors. What is the Null hypothesis? What is the Alternative hypothesis? Perform the test. Can we reject the Null hypothesis?\n",
    "   2. Imagine we take a survey of adult and child preferences toward Pepsi and Coke. We asked 500 people total, 60% of whom were adults and 40% of whom were children. The adults preferred Coke at a 2:1 ratio and the children were evenly split between Coke and Pepsi. Construct the contingency table and run a the appropriate hypothesis test to see whether there is a significant relationship between a person's age and their soft drink preference. Remember to state your null and alternative hypotheses beforehand and draw a conclusion afterwards.\n",
    "   \n",
    "   \n",
    "6. (Bonus) \n",
    "   1.  You flip a coin $n$ times and it comes up heads on each flip. Use the hypothesis testing framework to create a statistical test that will allow you to decide if the coin is biased. How big does $n$ need to be in order to claim that there is significant evidence that the coin is biased? (The ambiguity here is intentional: what does it mean for evidence to be significant?)\n",
    "   2.   You flip another coin $n$ times and it comes up tails 48% of the time. Use hypothesis testing to create a statistical test that will allow you to decide if the coin is biased. How big does $n$ need to be for significance? [<em>Important hints for this one</em>. Computing exact p-values like we did in question 1 will probably be infeasible here (why?), so we'll need to use a different method. Notice that we can compute the proportion of tails that come up by encoding the flips with a 1 for tails and 0 for heads, and taking the <em>mean</em> of that. Since the proportion of tails is computed as a <em>sample mean</em>, we get to use the central limit theorem, which says that the proportion of tails (approximately) follows a normal distribution with mean equal to the true mean, and standard deviation equal to the true standard deviation divided by $\\sqrt{n}$].\n",
    "   3.  Based on your answers from 1 and 2, what can you say about the relationship between sample size and statistical significance?\n",
    "\n",
    "\n",
    "7. (Bonus) We will derive Bayes' Theorem about conditional probabilities. Recall that if $A, B$ are events then the conditional probability of $A$ given $B$ is defined as $$P(A|B)=\\frac{P(\\text{A and B})}{P(B)}$$ Using this, show Bayes' Theorem:\n",
    "\n",
    "$$P(A|B)=\\frac{P(B|A)P(A)}{P(B)}$$ \n"
   ]
  },
  {
   "cell_type": "markdown",
   "metadata": {},
   "source": [
    "### Solutions"
   ]
  },
  {
   "cell_type": "markdown",
   "metadata": {},
   "source": [
    "1. Definition reminder: given a time-series data set, with an $N$-period moving average $\\mu_N$ and an $N$-period standard deviation $\\sigma_N$, the *K-Upper Bollinger Bands* are defined as the rolling computation $(\\mu_N + K\\sigma_N)$ for some $K=1,2,\\ldots$. Similarly, the *K-Lower Bollinger Bands* are $(\\mu_N - K\\sigma_N)$.  Load in the `timeseries_1.csv` price series, and create two new columns which are the first upper and lower Bollinger bands on a 4-minute level computed on the *open* price.  Create another column which has `True` if the high of any given minute is above the upper Bollinger band value, and `False` if not."
   ]
  },
  {
   "cell_type": "code",
   "execution_count": 2,
   "metadata": {},
   "outputs": [
    {
     "data": {
      "text/html": [
       "<div>\n",
       "<style scoped>\n",
       "    .dataframe tbody tr th:only-of-type {\n",
       "        vertical-align: middle;\n",
       "    }\n",
       "\n",
       "    .dataframe tbody tr th {\n",
       "        vertical-align: top;\n",
       "    }\n",
       "\n",
       "    .dataframe thead th {\n",
       "        text-align: right;\n",
       "    }\n",
       "</style>\n",
       "<table border=\"1\" class=\"dataframe\">\n",
       "  <thead>\n",
       "    <tr style=\"text-align: right;\">\n",
       "      <th></th>\n",
       "      <th>open</th>\n",
       "      <th>high</th>\n",
       "      <th>low</th>\n",
       "      <th>close</th>\n",
       "      <th>volume</th>\n",
       "    </tr>\n",
       "  </thead>\n",
       "  <tbody>\n",
       "    <tr>\n",
       "      <th>2014-02-01 08:00:00</th>\n",
       "      <td>748.1</td>\n",
       "      <td>748.2</td>\n",
       "      <td>746.7</td>\n",
       "      <td>746.8</td>\n",
       "      <td>39470</td>\n",
       "    </tr>\n",
       "    <tr>\n",
       "      <th>2014-02-01 08:01:00</th>\n",
       "      <td>746.9</td>\n",
       "      <td>747.1</td>\n",
       "      <td>746.8</td>\n",
       "      <td>746.8</td>\n",
       "      <td>10498</td>\n",
       "    </tr>\n",
       "    <tr>\n",
       "      <th>2014-02-01 08:02:00</th>\n",
       "      <td>746.8</td>\n",
       "      <td>747.2</td>\n",
       "      <td>746.7</td>\n",
       "      <td>747.1</td>\n",
       "      <td>7782</td>\n",
       "    </tr>\n",
       "    <tr>\n",
       "      <th>2014-02-01 08:03:00</th>\n",
       "      <td>747.2</td>\n",
       "      <td>747.8</td>\n",
       "      <td>747.1</td>\n",
       "      <td>747.6</td>\n",
       "      <td>10678</td>\n",
       "    </tr>\n",
       "    <tr>\n",
       "      <th>2014-02-01 08:04:00</th>\n",
       "      <td>747.5</td>\n",
       "      <td>747.8</td>\n",
       "      <td>747.5</td>\n",
       "      <td>747.8</td>\n",
       "      <td>3194</td>\n",
       "    </tr>\n",
       "  </tbody>\n",
       "</table>\n",
       "</div>"
      ],
      "text/plain": [
       "                      open   high    low  close  volume\n",
       "2014-02-01 08:00:00  748.1  748.2  746.7  746.8   39470\n",
       "2014-02-01 08:01:00  746.9  747.1  746.8  746.8   10498\n",
       "2014-02-01 08:02:00  746.8  747.2  746.7  747.1    7782\n",
       "2014-02-01 08:03:00  747.2  747.8  747.1  747.6   10678\n",
       "2014-02-01 08:04:00  747.5  747.8  747.5  747.8    3194"
      ]
     },
     "execution_count": 2,
     "metadata": {},
     "output_type": "execute_result"
    }
   ],
   "source": [
    "ts=pd.read_csv('data/timeseries_1.csv', index_col=0, parse_dates=True)\n",
    "ts.head()"
   ]
  },
  {
   "cell_type": "code",
   "execution_count": 3,
   "metadata": {},
   "outputs": [],
   "source": [
    "#calculating 4-min moving averge in a new column\n",
    "ts['moving_ave']=ts['open'].rolling(window=4).mean()\n",
    "#calculating 4-min moving sd in a new column\n",
    "ts['moving_sd']=ts['open'].rolling(window=4).std()"
   ]
  },
  {
   "cell_type": "code",
   "execution_count": 4,
   "metadata": {},
   "outputs": [
    {
     "data": {
      "text/html": [
       "<div>\n",
       "<style scoped>\n",
       "    .dataframe tbody tr th:only-of-type {\n",
       "        vertical-align: middle;\n",
       "    }\n",
       "\n",
       "    .dataframe tbody tr th {\n",
       "        vertical-align: top;\n",
       "    }\n",
       "\n",
       "    .dataframe thead th {\n",
       "        text-align: right;\n",
       "    }\n",
       "</style>\n",
       "<table border=\"1\" class=\"dataframe\">\n",
       "  <thead>\n",
       "    <tr style=\"text-align: right;\">\n",
       "      <th></th>\n",
       "      <th>open</th>\n",
       "      <th>high</th>\n",
       "      <th>low</th>\n",
       "      <th>close</th>\n",
       "      <th>volume</th>\n",
       "      <th>moving_ave</th>\n",
       "      <th>moving_sd</th>\n",
       "    </tr>\n",
       "  </thead>\n",
       "  <tbody>\n",
       "    <tr>\n",
       "      <th>2014-02-01 08:00:00</th>\n",
       "      <td>748.1</td>\n",
       "      <td>748.2</td>\n",
       "      <td>746.7</td>\n",
       "      <td>746.8</td>\n",
       "      <td>39470</td>\n",
       "      <td>NaN</td>\n",
       "      <td>NaN</td>\n",
       "    </tr>\n",
       "    <tr>\n",
       "      <th>2014-02-01 08:01:00</th>\n",
       "      <td>746.9</td>\n",
       "      <td>747.1</td>\n",
       "      <td>746.8</td>\n",
       "      <td>746.8</td>\n",
       "      <td>10498</td>\n",
       "      <td>NaN</td>\n",
       "      <td>NaN</td>\n",
       "    </tr>\n",
       "    <tr>\n",
       "      <th>2014-02-01 08:02:00</th>\n",
       "      <td>746.8</td>\n",
       "      <td>747.2</td>\n",
       "      <td>746.7</td>\n",
       "      <td>747.1</td>\n",
       "      <td>7782</td>\n",
       "      <td>NaN</td>\n",
       "      <td>NaN</td>\n",
       "    </tr>\n",
       "    <tr>\n",
       "      <th>2014-02-01 08:03:00</th>\n",
       "      <td>747.2</td>\n",
       "      <td>747.8</td>\n",
       "      <td>747.1</td>\n",
       "      <td>747.6</td>\n",
       "      <td>10678</td>\n",
       "      <td>747.25</td>\n",
       "      <td>0.591608</td>\n",
       "    </tr>\n",
       "    <tr>\n",
       "      <th>2014-02-01 08:04:00</th>\n",
       "      <td>747.5</td>\n",
       "      <td>747.8</td>\n",
       "      <td>747.5</td>\n",
       "      <td>747.8</td>\n",
       "      <td>3194</td>\n",
       "      <td>747.10</td>\n",
       "      <td>0.316228</td>\n",
       "    </tr>\n",
       "    <tr>\n",
       "      <th>2014-02-01 08:05:00</th>\n",
       "      <td>747.7</td>\n",
       "      <td>747.8</td>\n",
       "      <td>747.6</td>\n",
       "      <td>747.6</td>\n",
       "      <td>2274</td>\n",
       "      <td>747.30</td>\n",
       "      <td>0.391578</td>\n",
       "    </tr>\n",
       "    <tr>\n",
       "      <th>2014-02-01 08:06:00</th>\n",
       "      <td>747.6</td>\n",
       "      <td>747.8</td>\n",
       "      <td>747.6</td>\n",
       "      <td>747.6</td>\n",
       "      <td>2206</td>\n",
       "      <td>747.50</td>\n",
       "      <td>0.216025</td>\n",
       "    </tr>\n",
       "  </tbody>\n",
       "</table>\n",
       "</div>"
      ],
      "text/plain": [
       "                      open   high    low  close  volume  moving_ave  moving_sd\n",
       "2014-02-01 08:00:00  748.1  748.2  746.7  746.8   39470         NaN        NaN\n",
       "2014-02-01 08:01:00  746.9  747.1  746.8  746.8   10498         NaN        NaN\n",
       "2014-02-01 08:02:00  746.8  747.2  746.7  747.1    7782         NaN        NaN\n",
       "2014-02-01 08:03:00  747.2  747.8  747.1  747.6   10678      747.25   0.591608\n",
       "2014-02-01 08:04:00  747.5  747.8  747.5  747.8    3194      747.10   0.316228\n",
       "2014-02-01 08:05:00  747.7  747.8  747.6  747.6    2274      747.30   0.391578\n",
       "2014-02-01 08:06:00  747.6  747.8  747.6  747.6    2206      747.50   0.216025"
      ]
     },
     "execution_count": 4,
     "metadata": {},
     "output_type": "execute_result"
    }
   ],
   "source": [
    "ts.head(7)"
   ]
  },
  {
   "cell_type": "code",
   "execution_count": 5,
   "metadata": {},
   "outputs": [],
   "source": [
    "#calculating upper bollinger band with 1 SD in a new column upper= mean+1*SD\n",
    "ts['upper']=ts['moving_ave'] + (1 * ts['moving_sd'])\n",
    "#calculating lower bollinger band with 1 SD in a new column lower= mean-1*SD\n",
    "ts['lower']=ts['moving_ave'] - (1 * ts['moving_sd'])"
   ]
  },
  {
   "cell_type": "code",
   "execution_count": 6,
   "metadata": {},
   "outputs": [
    {
     "data": {
      "text/html": [
       "<div>\n",
       "<style scoped>\n",
       "    .dataframe tbody tr th:only-of-type {\n",
       "        vertical-align: middle;\n",
       "    }\n",
       "\n",
       "    .dataframe tbody tr th {\n",
       "        vertical-align: top;\n",
       "    }\n",
       "\n",
       "    .dataframe thead th {\n",
       "        text-align: right;\n",
       "    }\n",
       "</style>\n",
       "<table border=\"1\" class=\"dataframe\">\n",
       "  <thead>\n",
       "    <tr style=\"text-align: right;\">\n",
       "      <th></th>\n",
       "      <th>open</th>\n",
       "      <th>high</th>\n",
       "      <th>low</th>\n",
       "      <th>close</th>\n",
       "      <th>volume</th>\n",
       "      <th>moving_ave</th>\n",
       "      <th>moving_sd</th>\n",
       "      <th>upper</th>\n",
       "      <th>lower</th>\n",
       "    </tr>\n",
       "  </thead>\n",
       "  <tbody>\n",
       "    <tr>\n",
       "      <th>2014-02-01 08:00:00</th>\n",
       "      <td>748.1</td>\n",
       "      <td>748.2</td>\n",
       "      <td>746.7</td>\n",
       "      <td>746.8</td>\n",
       "      <td>39470</td>\n",
       "      <td>NaN</td>\n",
       "      <td>NaN</td>\n",
       "      <td>NaN</td>\n",
       "      <td>NaN</td>\n",
       "    </tr>\n",
       "    <tr>\n",
       "      <th>2014-02-01 08:01:00</th>\n",
       "      <td>746.9</td>\n",
       "      <td>747.1</td>\n",
       "      <td>746.8</td>\n",
       "      <td>746.8</td>\n",
       "      <td>10498</td>\n",
       "      <td>NaN</td>\n",
       "      <td>NaN</td>\n",
       "      <td>NaN</td>\n",
       "      <td>NaN</td>\n",
       "    </tr>\n",
       "    <tr>\n",
       "      <th>2014-02-01 08:02:00</th>\n",
       "      <td>746.8</td>\n",
       "      <td>747.2</td>\n",
       "      <td>746.7</td>\n",
       "      <td>747.1</td>\n",
       "      <td>7782</td>\n",
       "      <td>NaN</td>\n",
       "      <td>NaN</td>\n",
       "      <td>NaN</td>\n",
       "      <td>NaN</td>\n",
       "    </tr>\n",
       "    <tr>\n",
       "      <th>2014-02-01 08:03:00</th>\n",
       "      <td>747.2</td>\n",
       "      <td>747.8</td>\n",
       "      <td>747.1</td>\n",
       "      <td>747.6</td>\n",
       "      <td>10678</td>\n",
       "      <td>747.25</td>\n",
       "      <td>0.591608</td>\n",
       "      <td>747.841608</td>\n",
       "      <td>746.658392</td>\n",
       "    </tr>\n",
       "    <tr>\n",
       "      <th>2014-02-01 08:04:00</th>\n",
       "      <td>747.5</td>\n",
       "      <td>747.8</td>\n",
       "      <td>747.5</td>\n",
       "      <td>747.8</td>\n",
       "      <td>3194</td>\n",
       "      <td>747.10</td>\n",
       "      <td>0.316228</td>\n",
       "      <td>747.416228</td>\n",
       "      <td>746.783772</td>\n",
       "    </tr>\n",
       "    <tr>\n",
       "      <th>2014-02-01 08:05:00</th>\n",
       "      <td>747.7</td>\n",
       "      <td>747.8</td>\n",
       "      <td>747.6</td>\n",
       "      <td>747.6</td>\n",
       "      <td>2274</td>\n",
       "      <td>747.30</td>\n",
       "      <td>0.391578</td>\n",
       "      <td>747.691578</td>\n",
       "      <td>746.908422</td>\n",
       "    </tr>\n",
       "    <tr>\n",
       "      <th>2014-02-01 08:06:00</th>\n",
       "      <td>747.6</td>\n",
       "      <td>747.8</td>\n",
       "      <td>747.6</td>\n",
       "      <td>747.6</td>\n",
       "      <td>2206</td>\n",
       "      <td>747.50</td>\n",
       "      <td>0.216025</td>\n",
       "      <td>747.716025</td>\n",
       "      <td>747.283975</td>\n",
       "    </tr>\n",
       "  </tbody>\n",
       "</table>\n",
       "</div>"
      ],
      "text/plain": [
       "                      open   high    low  close  volume  moving_ave  \\\n",
       "2014-02-01 08:00:00  748.1  748.2  746.7  746.8   39470         NaN   \n",
       "2014-02-01 08:01:00  746.9  747.1  746.8  746.8   10498         NaN   \n",
       "2014-02-01 08:02:00  746.8  747.2  746.7  747.1    7782         NaN   \n",
       "2014-02-01 08:03:00  747.2  747.8  747.1  747.6   10678      747.25   \n",
       "2014-02-01 08:04:00  747.5  747.8  747.5  747.8    3194      747.10   \n",
       "2014-02-01 08:05:00  747.7  747.8  747.6  747.6    2274      747.30   \n",
       "2014-02-01 08:06:00  747.6  747.8  747.6  747.6    2206      747.50   \n",
       "\n",
       "                     moving_sd       upper       lower  \n",
       "2014-02-01 08:00:00        NaN         NaN         NaN  \n",
       "2014-02-01 08:01:00        NaN         NaN         NaN  \n",
       "2014-02-01 08:02:00        NaN         NaN         NaN  \n",
       "2014-02-01 08:03:00   0.591608  747.841608  746.658392  \n",
       "2014-02-01 08:04:00   0.316228  747.416228  746.783772  \n",
       "2014-02-01 08:05:00   0.391578  747.691578  746.908422  \n",
       "2014-02-01 08:06:00   0.216025  747.716025  747.283975  "
      ]
     },
     "execution_count": 6,
     "metadata": {},
     "output_type": "execute_result"
    }
   ],
   "source": [
    "ts.head(7)"
   ]
  },
  {
   "cell_type": "code",
   "execution_count": 7,
   "metadata": {
    "scrolled": true
   },
   "outputs": [
    {
     "data": {
      "text/plain": [
       "<AxesSubplot:>"
      ]
     },
     "execution_count": 7,
     "metadata": {},
     "output_type": "execute_result"
    },
    {
     "data": {
      "image/png": "[encoded data removed]",
      "text/plain": [
       "<Figure size 1080x360 with 1 Axes>"
      ]
     },
     "metadata": {
      "needs_background": "light"
     },
     "output_type": "display_data"
    }
   ],
   "source": [
    "#plotting\n",
    "ts[['open','moving_ave','upper','lower']].plot(figsize=(15,5))"
   ]
  },
  {
   "cell_type": "code",
   "execution_count": 8,
   "metadata": {},
   "outputs": [
    {
     "data": {
      "text/html": [
       "<div>\n",
       "<style scoped>\n",
       "    .dataframe tbody tr th:only-of-type {\n",
       "        vertical-align: middle;\n",
       "    }\n",
       "\n",
       "    .dataframe tbody tr th {\n",
       "        vertical-align: top;\n",
       "    }\n",
       "\n",
       "    .dataframe thead th {\n",
       "        text-align: right;\n",
       "    }\n",
       "</style>\n",
       "<table border=\"1\" class=\"dataframe\">\n",
       "  <thead>\n",
       "    <tr style=\"text-align: right;\">\n",
       "      <th></th>\n",
       "      <th>open</th>\n",
       "      <th>high</th>\n",
       "      <th>low</th>\n",
       "      <th>close</th>\n",
       "      <th>volume</th>\n",
       "      <th>moving_ave</th>\n",
       "      <th>moving_sd</th>\n",
       "      <th>upper</th>\n",
       "      <th>lower</th>\n",
       "      <th>too_high</th>\n",
       "    </tr>\n",
       "  </thead>\n",
       "  <tbody>\n",
       "    <tr>\n",
       "      <th>2014-02-01 08:00:00</th>\n",
       "      <td>748.1</td>\n",
       "      <td>748.2</td>\n",
       "      <td>746.7</td>\n",
       "      <td>746.8</td>\n",
       "      <td>39470</td>\n",
       "      <td>NaN</td>\n",
       "      <td>NaN</td>\n",
       "      <td>NaN</td>\n",
       "      <td>NaN</td>\n",
       "      <td>False</td>\n",
       "    </tr>\n",
       "    <tr>\n",
       "      <th>2014-02-01 08:01:00</th>\n",
       "      <td>746.9</td>\n",
       "      <td>747.1</td>\n",
       "      <td>746.8</td>\n",
       "      <td>746.8</td>\n",
       "      <td>10498</td>\n",
       "      <td>NaN</td>\n",
       "      <td>NaN</td>\n",
       "      <td>NaN</td>\n",
       "      <td>NaN</td>\n",
       "      <td>False</td>\n",
       "    </tr>\n",
       "    <tr>\n",
       "      <th>2014-02-01 08:02:00</th>\n",
       "      <td>746.8</td>\n",
       "      <td>747.2</td>\n",
       "      <td>746.7</td>\n",
       "      <td>747.1</td>\n",
       "      <td>7782</td>\n",
       "      <td>NaN</td>\n",
       "      <td>NaN</td>\n",
       "      <td>NaN</td>\n",
       "      <td>NaN</td>\n",
       "      <td>False</td>\n",
       "    </tr>\n",
       "    <tr>\n",
       "      <th>2014-02-01 08:03:00</th>\n",
       "      <td>747.2</td>\n",
       "      <td>747.8</td>\n",
       "      <td>747.1</td>\n",
       "      <td>747.6</td>\n",
       "      <td>10678</td>\n",
       "      <td>747.250</td>\n",
       "      <td>0.591608</td>\n",
       "      <td>747.841608</td>\n",
       "      <td>746.658392</td>\n",
       "      <td>False</td>\n",
       "    </tr>\n",
       "    <tr>\n",
       "      <th>2014-02-01 08:04:00</th>\n",
       "      <td>747.5</td>\n",
       "      <td>747.8</td>\n",
       "      <td>747.5</td>\n",
       "      <td>747.8</td>\n",
       "      <td>3194</td>\n",
       "      <td>747.100</td>\n",
       "      <td>0.316228</td>\n",
       "      <td>747.416228</td>\n",
       "      <td>746.783772</td>\n",
       "      <td>True</td>\n",
       "    </tr>\n",
       "    <tr>\n",
       "      <th>2014-02-01 08:05:00</th>\n",
       "      <td>747.7</td>\n",
       "      <td>747.8</td>\n",
       "      <td>747.6</td>\n",
       "      <td>747.6</td>\n",
       "      <td>2274</td>\n",
       "      <td>747.300</td>\n",
       "      <td>0.391578</td>\n",
       "      <td>747.691578</td>\n",
       "      <td>746.908422</td>\n",
       "      <td>True</td>\n",
       "    </tr>\n",
       "    <tr>\n",
       "      <th>2014-02-01 08:06:00</th>\n",
       "      <td>747.6</td>\n",
       "      <td>747.8</td>\n",
       "      <td>747.6</td>\n",
       "      <td>747.6</td>\n",
       "      <td>2206</td>\n",
       "      <td>747.500</td>\n",
       "      <td>0.216025</td>\n",
       "      <td>747.716025</td>\n",
       "      <td>747.283975</td>\n",
       "      <td>True</td>\n",
       "    </tr>\n",
       "    <tr>\n",
       "      <th>2014-02-01 08:07:00</th>\n",
       "      <td>747.6</td>\n",
       "      <td>747.7</td>\n",
       "      <td>747.2</td>\n",
       "      <td>747.2</td>\n",
       "      <td>3890</td>\n",
       "      <td>747.600</td>\n",
       "      <td>0.081650</td>\n",
       "      <td>747.681650</td>\n",
       "      <td>747.518350</td>\n",
       "      <td>True</td>\n",
       "    </tr>\n",
       "    <tr>\n",
       "      <th>2014-02-01 08:08:00</th>\n",
       "      <td>747.2</td>\n",
       "      <td>747.5</td>\n",
       "      <td>747.2</td>\n",
       "      <td>747.2</td>\n",
       "      <td>4086</td>\n",
       "      <td>747.525</td>\n",
       "      <td>0.221736</td>\n",
       "      <td>747.746736</td>\n",
       "      <td>747.303264</td>\n",
       "      <td>False</td>\n",
       "    </tr>\n",
       "    <tr>\n",
       "      <th>2014-02-01 08:09:00</th>\n",
       "      <td>747.3</td>\n",
       "      <td>747.4</td>\n",
       "      <td>747.2</td>\n",
       "      <td>747.3</td>\n",
       "      <td>2830</td>\n",
       "      <td>747.425</td>\n",
       "      <td>0.206155</td>\n",
       "      <td>747.631155</td>\n",
       "      <td>747.218845</td>\n",
       "      <td>False</td>\n",
       "    </tr>\n",
       "    <tr>\n",
       "      <th>2014-02-01 08:10:00</th>\n",
       "      <td>747.2</td>\n",
       "      <td>747.3</td>\n",
       "      <td>747.2</td>\n",
       "      <td>747.3</td>\n",
       "      <td>306</td>\n",
       "      <td>747.325</td>\n",
       "      <td>0.189297</td>\n",
       "      <td>747.514297</td>\n",
       "      <td>747.135703</td>\n",
       "      <td>False</td>\n",
       "    </tr>\n",
       "    <tr>\n",
       "      <th>2014-02-01 08:11:00</th>\n",
       "      <td>747.2</td>\n",
       "      <td>747.2</td>\n",
       "      <td>747.0</td>\n",
       "      <td>747.1</td>\n",
       "      <td>4186</td>\n",
       "      <td>747.225</td>\n",
       "      <td>0.050000</td>\n",
       "      <td>747.275000</td>\n",
       "      <td>747.175000</td>\n",
       "      <td>False</td>\n",
       "    </tr>\n",
       "    <tr>\n",
       "      <th>2014-02-01 08:12:00</th>\n",
       "      <td>747.0</td>\n",
       "      <td>747.3</td>\n",
       "      <td>747.0</td>\n",
       "      <td>747.2</td>\n",
       "      <td>3258</td>\n",
       "      <td>747.175</td>\n",
       "      <td>0.125831</td>\n",
       "      <td>747.300831</td>\n",
       "      <td>747.049169</td>\n",
       "      <td>False</td>\n",
       "    </tr>\n",
       "    <tr>\n",
       "      <th>2014-02-01 08:13:00</th>\n",
       "      <td>747.2</td>\n",
       "      <td>747.5</td>\n",
       "      <td>747.2</td>\n",
       "      <td>747.5</td>\n",
       "      <td>4366</td>\n",
       "      <td>747.150</td>\n",
       "      <td>0.100000</td>\n",
       "      <td>747.250000</td>\n",
       "      <td>747.050000</td>\n",
       "      <td>True</td>\n",
       "    </tr>\n",
       "    <tr>\n",
       "      <th>2014-02-01 08:14:00</th>\n",
       "      <td>747.5</td>\n",
       "      <td>747.6</td>\n",
       "      <td>747.4</td>\n",
       "      <td>747.6</td>\n",
       "      <td>1246</td>\n",
       "      <td>747.225</td>\n",
       "      <td>0.206155</td>\n",
       "      <td>747.431155</td>\n",
       "      <td>747.018845</td>\n",
       "      <td>True</td>\n",
       "    </tr>\n",
       "    <tr>\n",
       "      <th>2014-02-01 08:15:00</th>\n",
       "      <td>747.6</td>\n",
       "      <td>747.7</td>\n",
       "      <td>747.5</td>\n",
       "      <td>747.7</td>\n",
       "      <td>1862</td>\n",
       "      <td>747.325</td>\n",
       "      <td>0.275379</td>\n",
       "      <td>747.600379</td>\n",
       "      <td>747.049621</td>\n",
       "      <td>True</td>\n",
       "    </tr>\n",
       "    <tr>\n",
       "      <th>2014-02-01 08:16:00</th>\n",
       "      <td>747.7</td>\n",
       "      <td>747.9</td>\n",
       "      <td>747.6</td>\n",
       "      <td>747.7</td>\n",
       "      <td>3022</td>\n",
       "      <td>747.500</td>\n",
       "      <td>0.216025</td>\n",
       "      <td>747.716025</td>\n",
       "      <td>747.283975</td>\n",
       "      <td>True</td>\n",
       "    </tr>\n",
       "    <tr>\n",
       "      <th>2014-02-01 08:17:00</th>\n",
       "      <td>747.7</td>\n",
       "      <td>747.8</td>\n",
       "      <td>747.6</td>\n",
       "      <td>747.7</td>\n",
       "      <td>1902</td>\n",
       "      <td>747.625</td>\n",
       "      <td>0.095743</td>\n",
       "      <td>747.720743</td>\n",
       "      <td>747.529257</td>\n",
       "      <td>True</td>\n",
       "    </tr>\n",
       "    <tr>\n",
       "      <th>2014-02-01 08:18:00</th>\n",
       "      <td>747.6</td>\n",
       "      <td>747.7</td>\n",
       "      <td>747.6</td>\n",
       "      <td>747.6</td>\n",
       "      <td>2610</td>\n",
       "      <td>747.650</td>\n",
       "      <td>0.057735</td>\n",
       "      <td>747.707735</td>\n",
       "      <td>747.592265</td>\n",
       "      <td>False</td>\n",
       "    </tr>\n",
       "    <tr>\n",
       "      <th>2014-02-01 08:19:00</th>\n",
       "      <td>747.7</td>\n",
       "      <td>747.8</td>\n",
       "      <td>747.7</td>\n",
       "      <td>747.7</td>\n",
       "      <td>646</td>\n",
       "      <td>747.675</td>\n",
       "      <td>0.050000</td>\n",
       "      <td>747.725000</td>\n",
       "      <td>747.625000</td>\n",
       "      <td>True</td>\n",
       "    </tr>\n",
       "    <tr>\n",
       "      <th>2014-02-01 08:20:00</th>\n",
       "      <td>747.7</td>\n",
       "      <td>747.8</td>\n",
       "      <td>747.7</td>\n",
       "      <td>747.7</td>\n",
       "      <td>862</td>\n",
       "      <td>747.675</td>\n",
       "      <td>0.050000</td>\n",
       "      <td>747.725000</td>\n",
       "      <td>747.625000</td>\n",
       "      <td>True</td>\n",
       "    </tr>\n",
       "  </tbody>\n",
       "</table>\n",
       "</div>"
      ],
      "text/plain": [
       "                      open   high    low  close  volume  moving_ave  \\\n",
       "2014-02-01 08:00:00  748.1  748.2  746.7  746.8   39470         NaN   \n",
       "2014-02-01 08:01:00  746.9  747.1  746.8  746.8   10498         NaN   \n",
       "2014-02-01 08:02:00  746.8  747.2  746.7  747.1    7782         NaN   \n",
       "2014-02-01 08:03:00  747.2  747.8  747.1  747.6   10678     747.250   \n",
       "2014-02-01 08:04:00  747.5  747.8  747.5  747.8    3194     747.100   \n",
       "2014-02-01 08:05:00  747.7  747.8  747.6  747.6    2274     747.300   \n",
       "2014-02-01 08:06:00  747.6  747.8  747.6  747.6    2206     747.500   \n",
       "2014-02-01 08:07:00  747.6  747.7  747.2  747.2    3890     747.600   \n",
       "2014-02-01 08:08:00  747.2  747.5  747.2  747.2    4086     747.525   \n",
       "2014-02-01 08:09:00  747.3  747.4  747.2  747.3    2830     747.425   \n",
       "2014-02-01 08:10:00  747.2  747.3  747.2  747.3     306     747.325   \n",
       "2014-02-01 08:11:00  747.2  747.2  747.0  747.1    4186     747.225   \n",
       "2014-02-01 08:12:00  747.0  747.3  747.0  747.2    3258     747.175   \n",
       "2014-02-01 08:13:00  747.2  747.5  747.2  747.5    4366     747.150   \n",
       "2014-02-01 08:14:00  747.5  747.6  747.4  747.6    1246     747.225   \n",
       "2014-02-01 08:15:00  747.6  747.7  747.5  747.7    1862     747.325   \n",
       "2014-02-01 08:16:00  747.7  747.9  747.6  747.7    3022     747.500   \n",
       "2014-02-01 08:17:00  747.7  747.8  747.6  747.7    1902     747.625   \n",
       "2014-02-01 08:18:00  747.6  747.7  747.6  747.6    2610     747.650   \n",
       "2014-02-01 08:19:00  747.7  747.8  747.7  747.7     646     747.675   \n",
       "2014-02-01 08:20:00  747.7  747.8  747.7  747.7     862     747.675   \n",
       "\n",
       "                     moving_sd       upper       lower  too_high  \n",
       "2014-02-01 08:00:00        NaN         NaN         NaN     False  \n",
       "2014-02-01 08:01:00        NaN         NaN         NaN     False  \n",
       "2014-02-01 08:02:00        NaN         NaN         NaN     False  \n",
       "2014-02-01 08:03:00   0.591608  747.841608  746.658392     False  \n",
       "2014-02-01 08:04:00   0.316228  747.416228  746.783772      True  \n",
       "2014-02-01 08:05:00   0.391578  747.691578  746.908422      True  \n",
       "2014-02-01 08:06:00   0.216025  747.716025  747.283975      True  \n",
       "2014-02-01 08:07:00   0.081650  747.681650  747.518350      True  \n",
       "2014-02-01 08:08:00   0.221736  747.746736  747.303264     False  \n",
       "2014-02-01 08:09:00   0.206155  747.631155  747.218845     False  \n",
       "2014-02-01 08:10:00   0.189297  747.514297  747.135703     False  \n",
       "2014-02-01 08:11:00   0.050000  747.275000  747.175000     False  \n",
       "2014-02-01 08:12:00   0.125831  747.300831  747.049169     False  \n",
       "2014-02-01 08:13:00   0.100000  747.250000  747.050000      True  \n",
       "2014-02-01 08:14:00   0.206155  747.431155  747.018845      True  \n",
       "2014-02-01 08:15:00   0.275379  747.600379  747.049621      True  \n",
       "2014-02-01 08:16:00   0.216025  747.716025  747.283975      True  \n",
       "2014-02-01 08:17:00   0.095743  747.720743  747.529257      True  \n",
       "2014-02-01 08:18:00   0.057735  747.707735  747.592265     False  \n",
       "2014-02-01 08:19:00   0.050000  747.725000  747.625000      True  \n",
       "2014-02-01 08:20:00   0.050000  747.725000  747.625000      True  "
      ]
     },
     "execution_count": 8,
     "metadata": {},
     "output_type": "execute_result"
    }
   ],
   "source": [
    "#Create another column which has True if the high of any given minute is above the upper Bollinger band value, and False if no\n",
    "import numpy as np\n",
    "ts['too_high']=np.where(ts['high'] > ts['upper'], True,False)\n",
    "ts"
   ]
  },
  {
   "cell_type": "markdown",
   "metadata": {},
   "source": [
    "2. Consider the following set of data:<br>\n",
    "```\n",
    "[31.64318274,  52.38028382,  52.06990842,  49.38683521, 66.2809943,  56.28673623,  56.31535831,  47.61107798, 51.22059076,  72.74444307,  44.92132396,  44.7806115, 55.06875272,  53.30195541,  48.82836245,  56.5645093 ,58.60658527,  51.25941697,  31.19829968,  71.44567964,  50.90570844,  41.50918145,  46.12808914,  38.29642645, 74.76853757,  56.09746354,  49.40810407,  41.91971301,  59.79453349,  71.42976646,  84.08722246,  66.11230252, 52.09783487,  66.50079773,  47.23055517,  42.41625807,  34.99316584,  39.61756471,  51.67965582,  57.67403776, 60.54283988,  40.30238293,  46.61520191,  55.6952267,  43.87997719,  45.23675992,  59.35864021,  31.31812861, 74.5603146, 62.91095588]\n",
    "```\n",
    "<br>\n",
    "    Use the Interquartile Method to find any possible outliers.  If there are any outliers, how many standard deviations away from the mean are they?"
   ]
  },
  {
   "cell_type": "code",
   "execution_count": 9,
   "metadata": {},
   "outputs": [],
   "source": [
    "data=[31.64318274,  52.38028382,  52.06990842,  49.38683521, 66.2809943,  56.28673623,  56.31535831,  47.61107798, 51.22059076,  72.74444307,  44.92132396,  44.7806115, 55.06875272,  53.30195541,  48.82836245,  56.5645093 ,58.60658527,  51.25941697,  31.19829968,  71.44567964,  50.90570844,  41.50918145,  46.12808914,  38.29642645, 74.76853757,  56.09746354,  49.40810407,  41.91971301,  59.79453349,  71.42976646,  84.08722246,  66.11230252, 52.09783487,  66.50079773,  47.23055517,  42.41625807,  34.99316584,  39.61756471,  51.67965582,  57.67403776, 60.54283988,  40.30238293,  46.61520191,  55.6952267,  43.87997719,  45.23675992,  59.35864021,  31.31812861, 74.5603146, 62.91095588]"
   ]
  },
  {
   "cell_type": "code",
   "execution_count": 10,
   "metadata": {},
   "outputs": [
    {
     "name": "stdout",
     "output_type": "stream",
     "text": [
      "45.00018295 59.170626475\n"
     ]
    }
   ],
   "source": [
    "Q1 = np.percentile(data , 25)\n",
    "Q3 = np.percentile(data , 75)\n",
    "print(Q1,Q3)"
   ]
  },
  {
   "cell_type": "code",
   "execution_count": 11,
   "metadata": {},
   "outputs": [],
   "source": [
    "IQR = Q3 - Q1\n",
    "ul = Q3+1.5*IQR\n",
    "ll = Q1-1.5*IQR"
   ]
  },
  {
   "cell_type": "code",
   "execution_count": 12,
   "metadata": {},
   "outputs": [
    {
     "name": "stdout",
     "output_type": "stream",
     "text": [
      "80.4262917625 23.74451766250001\n"
     ]
    }
   ],
   "source": [
    "print(ul,ll)"
   ]
  },
  {
   "cell_type": "code",
   "execution_count": 13,
   "metadata": {},
   "outputs": [],
   "source": [
    "#outliers will be anything higher than 80.43 or lower than 23.75"
   ]
  },
  {
   "cell_type": "code",
   "execution_count": 14,
   "metadata": {},
   "outputs": [
    {
     "name": "stdout",
     "output_type": "stream",
     "text": [
      " outlier in the dataset is [84.08722246]\n"
     ]
    }
   ],
   "source": [
    "outlier =[]\n",
    "for x in data:\n",
    "    if ((x> ul) or (x<ll)):\n",
    "         outlier.append(x)\n",
    "print(' outlier in the dataset is', outlier)"
   ]
  },
  {
   "cell_type": "code",
   "execution_count": 15,
   "metadata": {},
   "outputs": [
    {
     "name": "stderr",
     "output_type": "stream",
     "text": [
      "/opt/anaconda3/lib/python3.9/site-packages/seaborn/_decorators.py:36: FutureWarning: Pass the following variable as a keyword arg: x. From version 0.12, the only valid positional argument will be `data`, and passing other arguments without an explicit keyword will result in an error or misinterpretation.\n",
      "  warnings.warn(\n"
     ]
    },
    {
     "data": {
      "text/plain": [
       "<AxesSubplot:>"
      ]
     },
     "execution_count": 15,
     "metadata": {},
     "output_type": "execute_result"
    },
    {
     "data": {
      "image/png": "[encoded data removed]",
      "text/plain": [
       "<Figure size 432x288 with 1 Axes>"
      ]
     },
     "metadata": {
      "needs_background": "light"
     },
     "output_type": "display_data"
    }
   ],
   "source": [
    "import seaborn as sns\n",
    "sns.boxplot(data)"
   ]
  },
  {
   "cell_type": "code",
   "execution_count": 16,
   "metadata": {},
   "outputs": [
    {
     "data": {
      "text/plain": [
       "array([-1.79792786, -0.04396196, -0.07021384, -0.297151  ,  1.13177481,\n",
       "        0.28644991,  0.2888708 , -0.44734642, -0.14205002,  1.67846013,\n",
       "       -0.67484866, -0.68675026,  0.18343158,  0.033994  , -0.34438722,\n",
       "        0.30994425,  0.48266519, -0.13876606, -1.83555654,  1.56860935,\n",
       "       -0.1686831 , -0.96345127, -0.57277918, -1.23518948,  1.84966018,\n",
       "        0.27044103, -0.29535206, -0.92872808,  0.58314311,  1.5672634 ,\n",
       "        2.63784439,  1.11750668, -0.06785179,  1.15036602, -0.47953144,\n",
       "       -0.88672977, -1.51458275, -1.12344621, -0.10322181,  0.40378934,\n",
       "        0.64643565, -1.06552356, -0.53157867,  0.23641941, -0.76292686,\n",
       "       -0.64816875,  0.54627479, -1.82542128,  1.83204846,  0.8467334 ])"
      ]
     },
     "execution_count": 16,
     "metadata": {},
     "output_type": "execute_result"
    }
   ],
   "source": [
    "# there is 1 outlier and it must be greater than 3 std away from the mean\n",
    "from scipy import stats\n",
    "stats.zscore(data)"
   ]
  },
  {
   "cell_type": "code",
   "execution_count": 17,
   "metadata": {},
   "outputs": [],
   "source": [
    "mean=np.mean(data)\n",
    "std=np.std(data)"
   ]
  },
  {
   "cell_type": "code",
   "execution_count": 18,
   "metadata": {},
   "outputs": [
    {
     "name": "stdout",
     "output_type": "stream",
     "text": [
      "52.9000450828\n"
     ]
    }
   ],
   "source": [
    "print(mean)"
   ]
  },
  {
   "cell_type": "code",
   "execution_count": 19,
   "metadata": {},
   "outputs": [
    {
     "name": "stdout",
     "output_type": "stream",
     "text": [
      "11.82297846242309\n"
     ]
    }
   ],
   "source": [
    "print(std)"
   ]
  },
  {
   "cell_type": "code",
   "execution_count": 20,
   "metadata": {},
   "outputs": [
    {
     "name": "stdout",
     "output_type": "stream",
     "text": [
      "2.6378443872093698\n"
     ]
    }
   ],
   "source": [
    "z_score=(84.08722246 - mean) / std\n",
    "print(z_score)"
   ]
  },
  {
   "cell_type": "code",
   "execution_count": 21,
   "metadata": {},
   "outputs": [],
   "source": [
    "#another way\n",
    "def z_score(value, mean, std):\n",
    "    return (value - mean) / std"
   ]
  },
  {
   "cell_type": "code",
   "execution_count": 22,
   "metadata": {},
   "outputs": [
    {
     "data": {
      "text/plain": [
       "2.6378443872093698"
      ]
     },
     "execution_count": 22,
     "metadata": {},
     "output_type": "execute_result"
    }
   ],
   "source": [
    "z_score(84.08722246,52.9000450828,11.82297846242309)"
   ]
  },
  {
   "cell_type": "code",
   "execution_count": 23,
   "metadata": {},
   "outputs": [],
   "source": [
    "# the outlier is 2.6 std away from the mean"
   ]
  },
  {
   "cell_type": "markdown",
   "metadata": {},
   "source": [
    "3. Load up the file `cordf.csv` file to answer these questions.\n",
    "  1.  Create a correlation matrix to describe how the variables in this file are correlated to each other. Which pair of columns is the most correlated? Which is the least? Note the ambiguity in this question: what does it mean for one pair to be \"more correlated\" than another?\n",
    "  2.  Create 5 scatterplots with the variable U on the x-axis in each, and the rest of the variables on the y-axes. Describe the relationship between the variables in each scatterplot. Compare and contrast your findings with the expectations you formed in question 1. Note: pandas has a cool function in `pandas.plotting.scatter_matrix` that can do this kind of thing really fast. Make all the scatterplots by hand this time around, but play around with scattermatrix too when you're done to see how it works. Check out the docs here: http://pandas.pydata.org/pandas-docs/stable/visualization.html?highlight=color#scatter-matrix-plot\n",
    "  3.  Taking what you find in parts A and B together, what can you surmise about what exactly is measured by the correlation coefficient? What do you think you can say about the relationship between two variables if the correlation coefficient is close to 1? Close to -1? Close to 0?\n",
    "  4.  Are there transformations that you could apply to any of the variables V, W, X, Y, or Z such that the transformed variables would have a higher correlation with U? Why or why not?"
   ]
  },
  {
   "cell_type": "code",
   "execution_count": 24,
   "metadata": {},
   "outputs": [
    {
     "data": {
      "text/html": [
       "<div>\n",
       "<style scoped>\n",
       "    .dataframe tbody tr th:only-of-type {\n",
       "        vertical-align: middle;\n",
       "    }\n",
       "\n",
       "    .dataframe tbody tr th {\n",
       "        vertical-align: top;\n",
       "    }\n",
       "\n",
       "    .dataframe thead th {\n",
       "        text-align: right;\n",
       "    }\n",
       "</style>\n",
       "<table border=\"1\" class=\"dataframe\">\n",
       "  <thead>\n",
       "    <tr style=\"text-align: right;\">\n",
       "      <th></th>\n",
       "      <th>U</th>\n",
       "      <th>V</th>\n",
       "      <th>W</th>\n",
       "      <th>X</th>\n",
       "      <th>Y</th>\n",
       "      <th>Z</th>\n",
       "    </tr>\n",
       "  </thead>\n",
       "  <tbody>\n",
       "    <tr>\n",
       "      <th>0</th>\n",
       "      <td>12.038590</td>\n",
       "      <td>0.744453</td>\n",
       "      <td>-10.942105</td>\n",
       "      <td>40.781449</td>\n",
       "      <td>45.700497</td>\n",
       "      <td>170157.430868</td>\n",
       "    </tr>\n",
       "    <tr>\n",
       "      <th>1</th>\n",
       "      <td>12.113755</td>\n",
       "      <td>0.707763</td>\n",
       "      <td>-14.357708</td>\n",
       "      <td>44.984320</td>\n",
       "      <td>41.513984</td>\n",
       "      <td>183362.300544</td>\n",
       "    </tr>\n",
       "    <tr>\n",
       "      <th>2</th>\n",
       "      <td>10.801962</td>\n",
       "      <td>0.748032</td>\n",
       "      <td>-11.889606</td>\n",
       "      <td>7.292216</td>\n",
       "      <td>50.976187</td>\n",
       "      <td>50116.217691</td>\n",
       "    </tr>\n",
       "    <tr>\n",
       "      <th>3</th>\n",
       "      <td>6.802179</td>\n",
       "      <td>0.064042</td>\n",
       "      <td>-6.204124</td>\n",
       "      <td>101.542121</td>\n",
       "      <td>45.936260</td>\n",
       "      <td>1898.942118</td>\n",
       "    </tr>\n",
       "    <tr>\n",
       "      <th>4</th>\n",
       "      <td>13.044167</td>\n",
       "      <td>-0.054437</td>\n",
       "      <td>-13.896126</td>\n",
       "      <td>90.453671</td>\n",
       "      <td>61.581390</td>\n",
       "      <td>463390.362258</td>\n",
       "    </tr>\n",
       "    <tr>\n",
       "      <th>...</th>\n",
       "      <td>...</td>\n",
       "      <td>...</td>\n",
       "      <td>...</td>\n",
       "      <td>...</td>\n",
       "      <td>...</td>\n",
       "      <td>...</td>\n",
       "    </tr>\n",
       "    <tr>\n",
       "      <th>995</th>\n",
       "      <td>10.806584</td>\n",
       "      <td>2.344577</td>\n",
       "      <td>-11.931692</td>\n",
       "      <td>7.622852</td>\n",
       "      <td>45.987535</td>\n",
       "      <td>50343.733926</td>\n",
       "    </tr>\n",
       "    <tr>\n",
       "      <th>996</th>\n",
       "      <td>8.857406</td>\n",
       "      <td>2.548389</td>\n",
       "      <td>-7.870767</td>\n",
       "      <td>12.195571</td>\n",
       "      <td>40.503709</td>\n",
       "      <td>8025.371052</td>\n",
       "    </tr>\n",
       "    <tr>\n",
       "      <th>997</th>\n",
       "      <td>13.441279</td>\n",
       "      <td>-0.907402</td>\n",
       "      <td>-15.324005</td>\n",
       "      <td>118.872362</td>\n",
       "      <td>69.367850</td>\n",
       "      <td>688817.085915</td>\n",
       "    </tr>\n",
       "    <tr>\n",
       "      <th>998</th>\n",
       "      <td>10.698268</td>\n",
       "      <td>-1.444585</td>\n",
       "      <td>-11.958796</td>\n",
       "      <td>5.204252</td>\n",
       "      <td>56.968464</td>\n",
       "      <td>45278.219222</td>\n",
       "    </tr>\n",
       "    <tr>\n",
       "      <th>999</th>\n",
       "      <td>8.072427</td>\n",
       "      <td>0.382163</td>\n",
       "      <td>-9.023107</td>\n",
       "      <td>36.574795</td>\n",
       "      <td>29.054426</td>\n",
       "      <td>4204.007717</td>\n",
       "    </tr>\n",
       "  </tbody>\n",
       "</table>\n",
       "<p>1000 rows × 6 columns</p>\n",
       "</div>"
      ],
      "text/plain": [
       "             U         V          W           X          Y              Z\n",
       "0    12.038590  0.744453 -10.942105   40.781449  45.700497  170157.430868\n",
       "1    12.113755  0.707763 -14.357708   44.984320  41.513984  183362.300544\n",
       "2    10.801962  0.748032 -11.889606    7.292216  50.976187   50116.217691\n",
       "3     6.802179  0.064042  -6.204124  101.542121  45.936260    1898.942118\n",
       "4    13.044167 -0.054437 -13.896126   90.453671  61.581390  463390.362258\n",
       "..         ...       ...        ...         ...        ...            ...\n",
       "995  10.806584  2.344577 -11.931692    7.622852  45.987535   50343.733926\n",
       "996   8.857406  2.548389  -7.870767   12.195571  40.503709    8025.371052\n",
       "997  13.441279 -0.907402 -15.324005  118.872362  69.367850  688817.085915\n",
       "998  10.698268 -1.444585 -11.958796    5.204252  56.968464   45278.219222\n",
       "999   8.072427  0.382163  -9.023107   36.574795  29.054426    4204.007717\n",
       "\n",
       "[1000 rows x 6 columns]"
      ]
     },
     "execution_count": 24,
     "metadata": {},
     "output_type": "execute_result"
    }
   ],
   "source": [
    "cd=pd.read_csv('data/cordf.csv')\n",
    "cd"
   ]
  },
  {
   "cell_type": "code",
   "execution_count": 25,
   "metadata": {
    "scrolled": true
   },
   "outputs": [
    {
     "data": {
      "text/html": [
       "<div>\n",
       "<style scoped>\n",
       "    .dataframe tbody tr th:only-of-type {\n",
       "        vertical-align: middle;\n",
       "    }\n",
       "\n",
       "    .dataframe tbody tr th {\n",
       "        vertical-align: top;\n",
       "    }\n",
       "\n",
       "    .dataframe thead th {\n",
       "        text-align: right;\n",
       "    }\n",
       "</style>\n",
       "<table border=\"1\" class=\"dataframe\">\n",
       "  <thead>\n",
       "    <tr style=\"text-align: right;\">\n",
       "      <th></th>\n",
       "      <th>U</th>\n",
       "      <th>V</th>\n",
       "      <th>W</th>\n",
       "      <th>X</th>\n",
       "      <th>Y</th>\n",
       "      <th>Z</th>\n",
       "    </tr>\n",
       "  </thead>\n",
       "  <tbody>\n",
       "    <tr>\n",
       "      <th>U</th>\n",
       "      <td>1.000000</td>\n",
       "      <td>-0.017595</td>\n",
       "      <td>-0.888213</td>\n",
       "      <td>0.000520</td>\n",
       "      <td>0.627311</td>\n",
       "      <td>0.342996</td>\n",
       "    </tr>\n",
       "    <tr>\n",
       "      <th>V</th>\n",
       "      <td>-0.017595</td>\n",
       "      <td>1.000000</td>\n",
       "      <td>0.006217</td>\n",
       "      <td>0.008271</td>\n",
       "      <td>-0.001050</td>\n",
       "      <td>-0.025472</td>\n",
       "    </tr>\n",
       "    <tr>\n",
       "      <th>W</th>\n",
       "      <td>-0.888213</td>\n",
       "      <td>0.006217</td>\n",
       "      <td>1.000000</td>\n",
       "      <td>-0.000237</td>\n",
       "      <td>-0.570783</td>\n",
       "      <td>-0.306872</td>\n",
       "    </tr>\n",
       "    <tr>\n",
       "      <th>X</th>\n",
       "      <td>0.000520</td>\n",
       "      <td>0.008271</td>\n",
       "      <td>-0.000237</td>\n",
       "      <td>1.000000</td>\n",
       "      <td>-0.009350</td>\n",
       "      <td>0.508597</td>\n",
       "    </tr>\n",
       "    <tr>\n",
       "      <th>Y</th>\n",
       "      <td>0.627311</td>\n",
       "      <td>-0.001050</td>\n",
       "      <td>-0.570783</td>\n",
       "      <td>-0.009350</td>\n",
       "      <td>1.000000</td>\n",
       "      <td>0.181291</td>\n",
       "    </tr>\n",
       "    <tr>\n",
       "      <th>Z</th>\n",
       "      <td>0.342996</td>\n",
       "      <td>-0.025472</td>\n",
       "      <td>-0.306872</td>\n",
       "      <td>0.508597</td>\n",
       "      <td>0.181291</td>\n",
       "      <td>1.000000</td>\n",
       "    </tr>\n",
       "  </tbody>\n",
       "</table>\n",
       "</div>"
      ],
      "text/plain": [
       "          U         V         W         X         Y         Z\n",
       "U  1.000000 -0.017595 -0.888213  0.000520  0.627311  0.342996\n",
       "V -0.017595  1.000000  0.006217  0.008271 -0.001050 -0.025472\n",
       "W -0.888213  0.006217  1.000000 -0.000237 -0.570783 -0.306872\n",
       "X  0.000520  0.008271 -0.000237  1.000000 -0.009350  0.508597\n",
       "Y  0.627311 -0.001050 -0.570783 -0.009350  1.000000  0.181291\n",
       "Z  0.342996 -0.025472 -0.306872  0.508597  0.181291  1.000000"
      ]
     },
     "execution_count": 25,
     "metadata": {},
     "output_type": "execute_result"
    }
   ],
   "source": [
    "#Create a correlation matrix to describe how the variables in this file are correlated to each other. \n",
    "cd.corr()"
   ]
  },
  {
   "cell_type": "code",
   "execution_count": 26,
   "metadata": {
    "scrolled": true
   },
   "outputs": [
    {
     "data": {
      "text/plain": [
       "<AxesSubplot:>"
      ]
     },
     "execution_count": 26,
     "metadata": {},
     "output_type": "execute_result"
    },
    {
     "data": {
      "image/png": "[encoded data removed]",
      "text/plain": [
       "<Figure size 432x288 with 2 Axes>"
      ]
     },
     "metadata": {
      "needs_background": "light"
     },
     "output_type": "display_data"
    }
   ],
   "source": [
    "sns.heatmap(cd.corr())"
   ]
  },
  {
   "cell_type": "code",
   "execution_count": 27,
   "metadata": {
    "scrolled": true
   },
   "outputs": [
    {
     "data": {
      "text/html": [
       "<div>\n",
       "<style scoped>\n",
       "    .dataframe tbody tr th:only-of-type {\n",
       "        vertical-align: middle;\n",
       "    }\n",
       "\n",
       "    .dataframe tbody tr th {\n",
       "        vertical-align: top;\n",
       "    }\n",
       "\n",
       "    .dataframe thead th {\n",
       "        text-align: right;\n",
       "    }\n",
       "</style>\n",
       "<table border=\"1\" class=\"dataframe\">\n",
       "  <thead>\n",
       "    <tr style=\"text-align: right;\">\n",
       "      <th></th>\n",
       "      <th>U</th>\n",
       "      <th>V</th>\n",
       "      <th>W</th>\n",
       "      <th>X</th>\n",
       "      <th>Y</th>\n",
       "      <th>Z</th>\n",
       "    </tr>\n",
       "  </thead>\n",
       "  <tbody>\n",
       "    <tr>\n",
       "      <th>U</th>\n",
       "      <td></td>\n",
       "      <td></td>\n",
       "      <td>-0.888213</td>\n",
       "      <td></td>\n",
       "      <td>0.627311</td>\n",
       "      <td></td>\n",
       "    </tr>\n",
       "    <tr>\n",
       "      <th>V</th>\n",
       "      <td></td>\n",
       "      <td></td>\n",
       "      <td></td>\n",
       "      <td></td>\n",
       "      <td></td>\n",
       "      <td></td>\n",
       "    </tr>\n",
       "    <tr>\n",
       "      <th>W</th>\n",
       "      <td>-0.888213</td>\n",
       "      <td></td>\n",
       "      <td></td>\n",
       "      <td></td>\n",
       "      <td></td>\n",
       "      <td></td>\n",
       "    </tr>\n",
       "    <tr>\n",
       "      <th>X</th>\n",
       "      <td></td>\n",
       "      <td></td>\n",
       "      <td></td>\n",
       "      <td></td>\n",
       "      <td></td>\n",
       "      <td></td>\n",
       "    </tr>\n",
       "    <tr>\n",
       "      <th>Y</th>\n",
       "      <td>0.627311</td>\n",
       "      <td></td>\n",
       "      <td></td>\n",
       "      <td></td>\n",
       "      <td></td>\n",
       "      <td></td>\n",
       "    </tr>\n",
       "    <tr>\n",
       "      <th>Z</th>\n",
       "      <td></td>\n",
       "      <td></td>\n",
       "      <td></td>\n",
       "      <td></td>\n",
       "      <td></td>\n",
       "      <td></td>\n",
       "    </tr>\n",
       "  </tbody>\n",
       "</table>\n",
       "</div>"
      ],
      "text/plain": [
       "          U V         W X         Y Z\n",
       "U             -0.888213    0.627311  \n",
       "V                                    \n",
       "W -0.888213                          \n",
       "X                                    \n",
       "Y  0.627311                          \n",
       "Z                                    "
      ]
     },
     "execution_count": 27,
     "metadata": {},
     "output_type": "execute_result"
    }
   ],
   "source": [
    "#Which pair of columns is the most correlated? \n",
    "corr = cd.corr()\n",
    "corr_filter = corr[((corr >= .6) | (corr <= -.6)) & (corr != 1)]\n",
    "corr_filter = corr_filter.fillna('')\n",
    "corr_filter"
   ]
  },
  {
   "cell_type": "code",
   "execution_count": 28,
   "metadata": {},
   "outputs": [
    {
     "data": {
      "text/html": [
       "<div>\n",
       "<style scoped>\n",
       "    .dataframe tbody tr th:only-of-type {\n",
       "        vertical-align: middle;\n",
       "    }\n",
       "\n",
       "    .dataframe tbody tr th {\n",
       "        vertical-align: top;\n",
       "    }\n",
       "\n",
       "    .dataframe thead th {\n",
       "        text-align: right;\n",
       "    }\n",
       "</style>\n",
       "<table border=\"1\" class=\"dataframe\">\n",
       "  <thead>\n",
       "    <tr style=\"text-align: right;\">\n",
       "      <th></th>\n",
       "      <th>U</th>\n",
       "      <th>V</th>\n",
       "      <th>W</th>\n",
       "      <th>X</th>\n",
       "      <th>Y</th>\n",
       "      <th>Z</th>\n",
       "    </tr>\n",
       "  </thead>\n",
       "  <tbody>\n",
       "    <tr>\n",
       "      <th>U</th>\n",
       "      <td></td>\n",
       "      <td>-0.017595</td>\n",
       "      <td></td>\n",
       "      <td>0.00052</td>\n",
       "      <td></td>\n",
       "      <td>0.342996</td>\n",
       "    </tr>\n",
       "    <tr>\n",
       "      <th>V</th>\n",
       "      <td>-0.017595</td>\n",
       "      <td></td>\n",
       "      <td>0.006217</td>\n",
       "      <td>0.008271</td>\n",
       "      <td>-0.00105</td>\n",
       "      <td>-0.025472</td>\n",
       "    </tr>\n",
       "    <tr>\n",
       "      <th>W</th>\n",
       "      <td></td>\n",
       "      <td>0.006217</td>\n",
       "      <td></td>\n",
       "      <td>-0.000237</td>\n",
       "      <td>-0.570783</td>\n",
       "      <td>-0.306872</td>\n",
       "    </tr>\n",
       "    <tr>\n",
       "      <th>X</th>\n",
       "      <td>0.00052</td>\n",
       "      <td>0.008271</td>\n",
       "      <td>-0.000237</td>\n",
       "      <td></td>\n",
       "      <td>-0.00935</td>\n",
       "      <td>0.508597</td>\n",
       "    </tr>\n",
       "    <tr>\n",
       "      <th>Y</th>\n",
       "      <td></td>\n",
       "      <td>-0.00105</td>\n",
       "      <td>-0.570783</td>\n",
       "      <td>-0.00935</td>\n",
       "      <td></td>\n",
       "      <td>0.181291</td>\n",
       "    </tr>\n",
       "    <tr>\n",
       "      <th>Z</th>\n",
       "      <td>0.342996</td>\n",
       "      <td>-0.025472</td>\n",
       "      <td>-0.306872</td>\n",
       "      <td>0.508597</td>\n",
       "      <td>0.181291</td>\n",
       "      <td></td>\n",
       "    </tr>\n",
       "  </tbody>\n",
       "</table>\n",
       "</div>"
      ],
      "text/plain": [
       "          U         V         W         X         Y         Z\n",
       "U           -0.017595             0.00052            0.342996\n",
       "V -0.017595            0.006217  0.008271  -0.00105 -0.025472\n",
       "W            0.006217           -0.000237 -0.570783 -0.306872\n",
       "X   0.00052  0.008271 -0.000237            -0.00935  0.508597\n",
       "Y            -0.00105 -0.570783  -0.00935            0.181291\n",
       "Z  0.342996 -0.025472 -0.306872  0.508597  0.181291          "
      ]
     },
     "execution_count": 28,
     "metadata": {},
     "output_type": "execute_result"
    }
   ],
   "source": [
    "#Which is the least? \n",
    "corr = cd.corr()\n",
    "corr_filter = corr[((corr <= .6) & (corr >= -.6)) & (corr != 1)]\n",
    "corr_filter = corr_filter.fillna('')\n",
    "corr_filter"
   ]
  },
  {
   "cell_type": "code",
   "execution_count": 29,
   "metadata": {},
   "outputs": [],
   "source": [
    "#Note the ambiguity in this question: what does it mean for one pair to be \"more correlated\" than another?\n",
    "# the higher the absolute number, the more correlated (positive or negative:inversely_correlated)"
   ]
  },
  {
   "cell_type": "code",
   "execution_count": 30,
   "metadata": {
    "scrolled": false
   },
   "outputs": [
    {
     "data": {
      "image/png": "[encoded data removed]",
      "text/plain": [
       "<Figure size 360x360 with 1 Axes>"
      ]
     },
     "metadata": {
      "needs_background": "light"
     },
     "output_type": "display_data"
    }
   ],
   "source": [
    "#Create 5 scatterplots with the variable U on the x-axis in each, and the rest of the variables on the y-axes. \n",
    "#Describe the relationship between the variables in each scatterplot. \n",
    "#Compare and contrast your findings with the expectations you formed in question 1. \n",
    "plt.figure(figsize=(5,5))\n",
    "sns.scatterplot(data=cd,\n",
    "               x='U',\n",
    "               y='V')\n",
    "plt.show()"
   ]
  },
  {
   "cell_type": "code",
   "execution_count": 31,
   "metadata": {},
   "outputs": [],
   "source": [
    "#no relationship between U & V\n",
    "# corr= -0.017595"
   ]
  },
  {
   "cell_type": "code",
   "execution_count": 32,
   "metadata": {
    "scrolled": false
   },
   "outputs": [
    {
     "data": {
      "image/png": "[encoded data removed]",
      "text/plain": [
       "<Figure size 360x360 with 1 Axes>"
      ]
     },
     "metadata": {
      "needs_background": "light"
     },
     "output_type": "display_data"
    }
   ],
   "source": [
    "plt.figure(figsize=(5,5))\n",
    "sns.scatterplot(data=cd,\n",
    "               x='U',\n",
    "               y='W')\n",
    "plt.show()"
   ]
  },
  {
   "cell_type": "code",
   "execution_count": 33,
   "metadata": {},
   "outputs": [],
   "source": [
    "# U & W are inversly correlated (linear negative correlation)\n",
    "# corr = -0.888213"
   ]
  },
  {
   "cell_type": "code",
   "execution_count": 34,
   "metadata": {
    "scrolled": true
   },
   "outputs": [
    {
     "data": {
      "image/png": "[encoded data removed]",
      "text/plain": [
       "<Figure size 360x360 with 1 Axes>"
      ]
     },
     "metadata": {
      "needs_background": "light"
     },
     "output_type": "display_data"
    }
   ],
   "source": [
    "plt.figure(figsize=(5,5))\n",
    "sns.scatterplot(data=cd,\n",
    "               x='U',\n",
    "               y='X')\n",
    "plt.show()"
   ]
  },
  {
   "cell_type": "code",
   "execution_count": 35,
   "metadata": {},
   "outputs": [],
   "source": [
    "# non-linear correlation\n",
    "# corr = 0.000520"
   ]
  },
  {
   "cell_type": "code",
   "execution_count": 36,
   "metadata": {
    "scrolled": false
   },
   "outputs": [
    {
     "data": {
      "image/png": "[encoded data removed]",
      "text/plain": [
       "<Figure size 360x360 with 1 Axes>"
      ]
     },
     "metadata": {
      "needs_background": "light"
     },
     "output_type": "display_data"
    }
   ],
   "source": [
    "plt.figure(figsize=(5,5))\n",
    "sns.scatterplot(data=cd,\n",
    "               x='U',\n",
    "               y='Y')\n",
    "plt.show()"
   ]
  },
  {
   "cell_type": "code",
   "execution_count": 37,
   "metadata": {},
   "outputs": [],
   "source": [
    "# linear positive correlation\n",
    "# corr = 0.627311"
   ]
  },
  {
   "cell_type": "code",
   "execution_count": 38,
   "metadata": {
    "scrolled": false
   },
   "outputs": [
    {
     "data": {
      "image/png": "[encoded data removed]",
      "text/plain": [
       "<Figure size 360x360 with 1 Axes>"
      ]
     },
     "metadata": {
      "needs_background": "light"
     },
     "output_type": "display_data"
    }
   ],
   "source": [
    "plt.figure(figsize=(5,5))\n",
    "sns.scatterplot(data=cd,\n",
    "               x='U',\n",
    "               y='Z')\n",
    "plt.show()"
   ]
  },
  {
   "cell_type": "code",
   "execution_count": 39,
   "metadata": {},
   "outputs": [],
   "source": [
    "# monotonic correlation: moving in the same direction but not at the same rate\n",
    "# corr = 0.342996"
   ]
  },
  {
   "cell_type": "code",
   "execution_count": 40,
   "metadata": {
    "scrolled": true
   },
   "outputs": [
    {
     "data": {
      "text/plain": [
       "array([[<AxesSubplot:xlabel='U', ylabel='U'>,\n",
       "        <AxesSubplot:xlabel='V', ylabel='U'>,\n",
       "        <AxesSubplot:xlabel='W', ylabel='U'>,\n",
       "        <AxesSubplot:xlabel='X', ylabel='U'>,\n",
       "        <AxesSubplot:xlabel='Y', ylabel='U'>,\n",
       "        <AxesSubplot:xlabel='Z', ylabel='U'>],\n",
       "       [<AxesSubplot:xlabel='U', ylabel='V'>,\n",
       "        <AxesSubplot:xlabel='V', ylabel='V'>,\n",
       "        <AxesSubplot:xlabel='W', ylabel='V'>,\n",
       "        <AxesSubplot:xlabel='X', ylabel='V'>,\n",
       "        <AxesSubplot:xlabel='Y', ylabel='V'>,\n",
       "        <AxesSubplot:xlabel='Z', ylabel='V'>],\n",
       "       [<AxesSubplot:xlabel='U', ylabel='W'>,\n",
       "        <AxesSubplot:xlabel='V', ylabel='W'>,\n",
       "        <AxesSubplot:xlabel='W', ylabel='W'>,\n",
       "        <AxesSubplot:xlabel='X', ylabel='W'>,\n",
       "        <AxesSubplot:xlabel='Y', ylabel='W'>,\n",
       "        <AxesSubplot:xlabel='Z', ylabel='W'>],\n",
       "       [<AxesSubplot:xlabel='U', ylabel='X'>,\n",
       "        <AxesSubplot:xlabel='V', ylabel='X'>,\n",
       "        <AxesSubplot:xlabel='W', ylabel='X'>,\n",
       "        <AxesSubplot:xlabel='X', ylabel='X'>,\n",
       "        <AxesSubplot:xlabel='Y', ylabel='X'>,\n",
       "        <AxesSubplot:xlabel='Z', ylabel='X'>],\n",
       "       [<AxesSubplot:xlabel='U', ylabel='Y'>,\n",
       "        <AxesSubplot:xlabel='V', ylabel='Y'>,\n",
       "        <AxesSubplot:xlabel='W', ylabel='Y'>,\n",
       "        <AxesSubplot:xlabel='X', ylabel='Y'>,\n",
       "        <AxesSubplot:xlabel='Y', ylabel='Y'>,\n",
       "        <AxesSubplot:xlabel='Z', ylabel='Y'>],\n",
       "       [<AxesSubplot:xlabel='U', ylabel='Z'>,\n",
       "        <AxesSubplot:xlabel='V', ylabel='Z'>,\n",
       "        <AxesSubplot:xlabel='W', ylabel='Z'>,\n",
       "        <AxesSubplot:xlabel='X', ylabel='Z'>,\n",
       "        <AxesSubplot:xlabel='Y', ylabel='Z'>,\n",
       "        <AxesSubplot:xlabel='Z', ylabel='Z'>]], dtype=object)"
      ]
     },
     "execution_count": 40,
     "metadata": {},
     "output_type": "execute_result"
    },
    {
     "data": {
      "image/png": "[encoded data removed]",
      "text/plain": [
       "<Figure size 432x288 with 36 Axes>"
      ]
     },
     "metadata": {
      "needs_background": "light"
     },
     "output_type": "display_data"
    }
   ],
   "source": [
    "#Note: pandas has a cool function in pandas.plotting.scatter_matrix that can do this kind of thing really fast. \n",
    "#Make all the scatterplots by hand this time around, but play around with scattermatrix too when you're done to see how it works. \n",
    "#Check out the docs here: http://pandas.pydata.org/pandas-docs/stable/visualization.html?highlight=color#scatter-matrix-plot\n",
    "pd.plotting.scatter_matrix(cd)"
   ]
  },
  {
   "cell_type": "code",
   "execution_count": 41,
   "metadata": {},
   "outputs": [],
   "source": [
    "# Taking what you find in parts A and B together, what can you surmise about what exactly is measured by \n",
    "#the correlation coefficient? \n",
    "#What do you think you can say about the relationship between two variables if the correlation coefficient is \n",
    "#close to 1? Close to -1? Close to 0?"
   ]
  },
  {
   "cell_type": "code",
   "execution_count": 42,
   "metadata": {},
   "outputs": [],
   "source": [
    "#Are there transformations that you could apply to any of the variables V, W, X, Y, or Z such that the transformed \n",
    "#variables would have a higher correlation with U? Why or why not?"
   ]
  },
  {
   "cell_type": "markdown",
   "metadata": {},
   "source": [
    "4. Consider the following data set: <br>\n",
    "```\n",
    "dfcl = pd.DataFrame({'CL Price': [35, 63, 48, 46, 66, 65, 35, 65, 50, 68, 43, 57, 39, 35, 68, 95, 56, 50, 42, 38, 47, 42, 39, 44, 52, 68, 49, 34, 39, 59, 60, 60, 60, 63, 58, 38, 37, 33, 36, 64, 38, 51, 60, 62, 65, 43, 38, 41, 48, 61]}\n",
    "```\n",
    "<br>\n",
    "    Are there any values more than 3 standard deviations away from the mean? If so, can we conclude they are outliers?"
   ]
  },
  {
   "cell_type": "code",
   "execution_count": 43,
   "metadata": {},
   "outputs": [
    {
     "data": {
      "text/html": [
       "<div>\n",
       "<style scoped>\n",
       "    .dataframe tbody tr th:only-of-type {\n",
       "        vertical-align: middle;\n",
       "    }\n",
       "\n",
       "    .dataframe tbody tr th {\n",
       "        vertical-align: top;\n",
       "    }\n",
       "\n",
       "    .dataframe thead th {\n",
       "        text-align: right;\n",
       "    }\n",
       "</style>\n",
       "<table border=\"1\" class=\"dataframe\">\n",
       "  <thead>\n",
       "    <tr style=\"text-align: right;\">\n",
       "      <th></th>\n",
       "      <th>CL Price</th>\n",
       "    </tr>\n",
       "  </thead>\n",
       "  <tbody>\n",
       "    <tr>\n",
       "      <th>0</th>\n",
       "      <td>35</td>\n",
       "    </tr>\n",
       "    <tr>\n",
       "      <th>1</th>\n",
       "      <td>63</td>\n",
       "    </tr>\n",
       "    <tr>\n",
       "      <th>2</th>\n",
       "      <td>48</td>\n",
       "    </tr>\n",
       "    <tr>\n",
       "      <th>3</th>\n",
       "      <td>46</td>\n",
       "    </tr>\n",
       "    <tr>\n",
       "      <th>4</th>\n",
       "      <td>66</td>\n",
       "    </tr>\n",
       "    <tr>\n",
       "      <th>5</th>\n",
       "      <td>65</td>\n",
       "    </tr>\n",
       "    <tr>\n",
       "      <th>6</th>\n",
       "      <td>35</td>\n",
       "    </tr>\n",
       "    <tr>\n",
       "      <th>7</th>\n",
       "      <td>65</td>\n",
       "    </tr>\n",
       "    <tr>\n",
       "      <th>8</th>\n",
       "      <td>50</td>\n",
       "    </tr>\n",
       "    <tr>\n",
       "      <th>9</th>\n",
       "      <td>68</td>\n",
       "    </tr>\n",
       "    <tr>\n",
       "      <th>10</th>\n",
       "      <td>43</td>\n",
       "    </tr>\n",
       "    <tr>\n",
       "      <th>11</th>\n",
       "      <td>57</td>\n",
       "    </tr>\n",
       "    <tr>\n",
       "      <th>12</th>\n",
       "      <td>39</td>\n",
       "    </tr>\n",
       "    <tr>\n",
       "      <th>13</th>\n",
       "      <td>35</td>\n",
       "    </tr>\n",
       "    <tr>\n",
       "      <th>14</th>\n",
       "      <td>68</td>\n",
       "    </tr>\n",
       "    <tr>\n",
       "      <th>15</th>\n",
       "      <td>95</td>\n",
       "    </tr>\n",
       "    <tr>\n",
       "      <th>16</th>\n",
       "      <td>56</td>\n",
       "    </tr>\n",
       "    <tr>\n",
       "      <th>17</th>\n",
       "      <td>50</td>\n",
       "    </tr>\n",
       "    <tr>\n",
       "      <th>18</th>\n",
       "      <td>42</td>\n",
       "    </tr>\n",
       "    <tr>\n",
       "      <th>19</th>\n",
       "      <td>38</td>\n",
       "    </tr>\n",
       "    <tr>\n",
       "      <th>20</th>\n",
       "      <td>47</td>\n",
       "    </tr>\n",
       "    <tr>\n",
       "      <th>21</th>\n",
       "      <td>42</td>\n",
       "    </tr>\n",
       "    <tr>\n",
       "      <th>22</th>\n",
       "      <td>39</td>\n",
       "    </tr>\n",
       "    <tr>\n",
       "      <th>23</th>\n",
       "      <td>44</td>\n",
       "    </tr>\n",
       "    <tr>\n",
       "      <th>24</th>\n",
       "      <td>52</td>\n",
       "    </tr>\n",
       "    <tr>\n",
       "      <th>25</th>\n",
       "      <td>68</td>\n",
       "    </tr>\n",
       "    <tr>\n",
       "      <th>26</th>\n",
       "      <td>49</td>\n",
       "    </tr>\n",
       "    <tr>\n",
       "      <th>27</th>\n",
       "      <td>34</td>\n",
       "    </tr>\n",
       "    <tr>\n",
       "      <th>28</th>\n",
       "      <td>39</td>\n",
       "    </tr>\n",
       "    <tr>\n",
       "      <th>29</th>\n",
       "      <td>59</td>\n",
       "    </tr>\n",
       "    <tr>\n",
       "      <th>30</th>\n",
       "      <td>60</td>\n",
       "    </tr>\n",
       "    <tr>\n",
       "      <th>31</th>\n",
       "      <td>60</td>\n",
       "    </tr>\n",
       "    <tr>\n",
       "      <th>32</th>\n",
       "      <td>60</td>\n",
       "    </tr>\n",
       "    <tr>\n",
       "      <th>33</th>\n",
       "      <td>63</td>\n",
       "    </tr>\n",
       "    <tr>\n",
       "      <th>34</th>\n",
       "      <td>58</td>\n",
       "    </tr>\n",
       "    <tr>\n",
       "      <th>35</th>\n",
       "      <td>38</td>\n",
       "    </tr>\n",
       "    <tr>\n",
       "      <th>36</th>\n",
       "      <td>37</td>\n",
       "    </tr>\n",
       "    <tr>\n",
       "      <th>37</th>\n",
       "      <td>33</td>\n",
       "    </tr>\n",
       "    <tr>\n",
       "      <th>38</th>\n",
       "      <td>36</td>\n",
       "    </tr>\n",
       "    <tr>\n",
       "      <th>39</th>\n",
       "      <td>64</td>\n",
       "    </tr>\n",
       "    <tr>\n",
       "      <th>40</th>\n",
       "      <td>38</td>\n",
       "    </tr>\n",
       "    <tr>\n",
       "      <th>41</th>\n",
       "      <td>51</td>\n",
       "    </tr>\n",
       "    <tr>\n",
       "      <th>42</th>\n",
       "      <td>60</td>\n",
       "    </tr>\n",
       "    <tr>\n",
       "      <th>43</th>\n",
       "      <td>62</td>\n",
       "    </tr>\n",
       "    <tr>\n",
       "      <th>44</th>\n",
       "      <td>65</td>\n",
       "    </tr>\n",
       "    <tr>\n",
       "      <th>45</th>\n",
       "      <td>43</td>\n",
       "    </tr>\n",
       "    <tr>\n",
       "      <th>46</th>\n",
       "      <td>38</td>\n",
       "    </tr>\n",
       "    <tr>\n",
       "      <th>47</th>\n",
       "      <td>41</td>\n",
       "    </tr>\n",
       "    <tr>\n",
       "      <th>48</th>\n",
       "      <td>48</td>\n",
       "    </tr>\n",
       "    <tr>\n",
       "      <th>49</th>\n",
       "      <td>61</td>\n",
       "    </tr>\n",
       "  </tbody>\n",
       "</table>\n",
       "</div>"
      ],
      "text/plain": [
       "    CL Price\n",
       "0         35\n",
       "1         63\n",
       "2         48\n",
       "3         46\n",
       "4         66\n",
       "5         65\n",
       "6         35\n",
       "7         65\n",
       "8         50\n",
       "9         68\n",
       "10        43\n",
       "11        57\n",
       "12        39\n",
       "13        35\n",
       "14        68\n",
       "15        95\n",
       "16        56\n",
       "17        50\n",
       "18        42\n",
       "19        38\n",
       "20        47\n",
       "21        42\n",
       "22        39\n",
       "23        44\n",
       "24        52\n",
       "25        68\n",
       "26        49\n",
       "27        34\n",
       "28        39\n",
       "29        59\n",
       "30        60\n",
       "31        60\n",
       "32        60\n",
       "33        63\n",
       "34        58\n",
       "35        38\n",
       "36        37\n",
       "37        33\n",
       "38        36\n",
       "39        64\n",
       "40        38\n",
       "41        51\n",
       "42        60\n",
       "43        62\n",
       "44        65\n",
       "45        43\n",
       "46        38\n",
       "47        41\n",
       "48        48\n",
       "49        61"
      ]
     },
     "execution_count": 43,
     "metadata": {},
     "output_type": "execute_result"
    }
   ],
   "source": [
    "cl={'CL Price': [35, 63, 48, 46, 66, 65, 35, 65, 50, 68, 43, 57, 39, 35, 68, 95, 56, 50, 42, 38, 47, 42, 39, 44, 52, 68, 49, 34, 39, 59, 60, 60, 60, 63, 58, 38, 37, 33, 36, 64, 38, 51, 60, 62, 65, 43, 38, 41, 48, 61]}\n",
    "df = pd.DataFrame.from_dict(cl)\n",
    "df"
   ]
  },
  {
   "cell_type": "code",
   "execution_count": 44,
   "metadata": {},
   "outputs": [
    {
     "name": "stdout",
     "output_type": "stream",
     "text": [
      "51.06\n",
      "12.811572893286757\n"
     ]
    }
   ],
   "source": [
    "cl_mean=np.mean(df['CL Price'])\n",
    "cl_std=np.std(df['CL Price'])\n",
    "print(cl_mean)\n",
    "print(cl_std)"
   ]
  },
  {
   "cell_type": "code",
   "execution_count": 45,
   "metadata": {},
   "outputs": [
    {
     "data": {
      "text/html": [
       "<div>\n",
       "<style scoped>\n",
       "    .dataframe tbody tr th:only-of-type {\n",
       "        vertical-align: middle;\n",
       "    }\n",
       "\n",
       "    .dataframe tbody tr th {\n",
       "        vertical-align: top;\n",
       "    }\n",
       "\n",
       "    .dataframe thead th {\n",
       "        text-align: right;\n",
       "    }\n",
       "</style>\n",
       "<table border=\"1\" class=\"dataframe\">\n",
       "  <thead>\n",
       "    <tr style=\"text-align: right;\">\n",
       "      <th></th>\n",
       "      <th>CL Price</th>\n",
       "    </tr>\n",
       "  </thead>\n",
       "  <tbody>\n",
       "    <tr>\n",
       "      <th>0</th>\n",
       "      <td>-1.253554</td>\n",
       "    </tr>\n",
       "    <tr>\n",
       "      <th>1</th>\n",
       "      <td>0.931970</td>\n",
       "    </tr>\n",
       "    <tr>\n",
       "      <th>2</th>\n",
       "      <td>-0.238847</td>\n",
       "    </tr>\n",
       "    <tr>\n",
       "      <th>3</th>\n",
       "      <td>-0.394955</td>\n",
       "    </tr>\n",
       "    <tr>\n",
       "      <th>4</th>\n",
       "      <td>1.166133</td>\n",
       "    </tr>\n",
       "    <tr>\n",
       "      <th>5</th>\n",
       "      <td>1.088079</td>\n",
       "    </tr>\n",
       "    <tr>\n",
       "      <th>6</th>\n",
       "      <td>-1.253554</td>\n",
       "    </tr>\n",
       "    <tr>\n",
       "      <th>7</th>\n",
       "      <td>1.088079</td>\n",
       "    </tr>\n",
       "    <tr>\n",
       "      <th>8</th>\n",
       "      <td>-0.082738</td>\n",
       "    </tr>\n",
       "    <tr>\n",
       "      <th>9</th>\n",
       "      <td>1.322242</td>\n",
       "    </tr>\n",
       "    <tr>\n",
       "      <th>10</th>\n",
       "      <td>-0.629119</td>\n",
       "    </tr>\n",
       "    <tr>\n",
       "      <th>11</th>\n",
       "      <td>0.463643</td>\n",
       "    </tr>\n",
       "    <tr>\n",
       "      <th>12</th>\n",
       "      <td>-0.941336</td>\n",
       "    </tr>\n",
       "    <tr>\n",
       "      <th>13</th>\n",
       "      <td>-1.253554</td>\n",
       "    </tr>\n",
       "    <tr>\n",
       "      <th>14</th>\n",
       "      <td>1.322242</td>\n",
       "    </tr>\n",
       "    <tr>\n",
       "      <th>15</th>\n",
       "      <td>3.429712</td>\n",
       "    </tr>\n",
       "    <tr>\n",
       "      <th>16</th>\n",
       "      <td>0.385589</td>\n",
       "    </tr>\n",
       "    <tr>\n",
       "      <th>17</th>\n",
       "      <td>-0.082738</td>\n",
       "    </tr>\n",
       "    <tr>\n",
       "      <th>18</th>\n",
       "      <td>-0.707173</td>\n",
       "    </tr>\n",
       "    <tr>\n",
       "      <th>19</th>\n",
       "      <td>-1.019391</td>\n",
       "    </tr>\n",
       "    <tr>\n",
       "      <th>20</th>\n",
       "      <td>-0.316901</td>\n",
       "    </tr>\n",
       "    <tr>\n",
       "      <th>21</th>\n",
       "      <td>-0.707173</td>\n",
       "    </tr>\n",
       "    <tr>\n",
       "      <th>22</th>\n",
       "      <td>-0.941336</td>\n",
       "    </tr>\n",
       "    <tr>\n",
       "      <th>23</th>\n",
       "      <td>-0.551064</td>\n",
       "    </tr>\n",
       "    <tr>\n",
       "      <th>24</th>\n",
       "      <td>0.073371</td>\n",
       "    </tr>\n",
       "    <tr>\n",
       "      <th>25</th>\n",
       "      <td>1.322242</td>\n",
       "    </tr>\n",
       "    <tr>\n",
       "      <th>26</th>\n",
       "      <td>-0.160792</td>\n",
       "    </tr>\n",
       "    <tr>\n",
       "      <th>27</th>\n",
       "      <td>-1.331609</td>\n",
       "    </tr>\n",
       "    <tr>\n",
       "      <th>28</th>\n",
       "      <td>-0.941336</td>\n",
       "    </tr>\n",
       "    <tr>\n",
       "      <th>29</th>\n",
       "      <td>0.619752</td>\n",
       "    </tr>\n",
       "    <tr>\n",
       "      <th>30</th>\n",
       "      <td>0.697807</td>\n",
       "    </tr>\n",
       "    <tr>\n",
       "      <th>31</th>\n",
       "      <td>0.697807</td>\n",
       "    </tr>\n",
       "    <tr>\n",
       "      <th>32</th>\n",
       "      <td>0.697807</td>\n",
       "    </tr>\n",
       "    <tr>\n",
       "      <th>33</th>\n",
       "      <td>0.931970</td>\n",
       "    </tr>\n",
       "    <tr>\n",
       "      <th>34</th>\n",
       "      <td>0.541698</td>\n",
       "    </tr>\n",
       "    <tr>\n",
       "      <th>35</th>\n",
       "      <td>-1.019391</td>\n",
       "    </tr>\n",
       "    <tr>\n",
       "      <th>36</th>\n",
       "      <td>-1.097445</td>\n",
       "    </tr>\n",
       "    <tr>\n",
       "      <th>37</th>\n",
       "      <td>-1.409663</td>\n",
       "    </tr>\n",
       "    <tr>\n",
       "      <th>38</th>\n",
       "      <td>-1.175500</td>\n",
       "    </tr>\n",
       "    <tr>\n",
       "      <th>39</th>\n",
       "      <td>1.010024</td>\n",
       "    </tr>\n",
       "    <tr>\n",
       "      <th>40</th>\n",
       "      <td>-1.019391</td>\n",
       "    </tr>\n",
       "    <tr>\n",
       "      <th>41</th>\n",
       "      <td>-0.004683</td>\n",
       "    </tr>\n",
       "    <tr>\n",
       "      <th>42</th>\n",
       "      <td>0.697807</td>\n",
       "    </tr>\n",
       "    <tr>\n",
       "      <th>43</th>\n",
       "      <td>0.853915</td>\n",
       "    </tr>\n",
       "    <tr>\n",
       "      <th>44</th>\n",
       "      <td>1.088079</td>\n",
       "    </tr>\n",
       "    <tr>\n",
       "      <th>45</th>\n",
       "      <td>-0.629119</td>\n",
       "    </tr>\n",
       "    <tr>\n",
       "      <th>46</th>\n",
       "      <td>-1.019391</td>\n",
       "    </tr>\n",
       "    <tr>\n",
       "      <th>47</th>\n",
       "      <td>-0.785228</td>\n",
       "    </tr>\n",
       "    <tr>\n",
       "      <th>48</th>\n",
       "      <td>-0.238847</td>\n",
       "    </tr>\n",
       "    <tr>\n",
       "      <th>49</th>\n",
       "      <td>0.775861</td>\n",
       "    </tr>\n",
       "  </tbody>\n",
       "</table>\n",
       "</div>"
      ],
      "text/plain": [
       "    CL Price\n",
       "0  -1.253554\n",
       "1   0.931970\n",
       "2  -0.238847\n",
       "3  -0.394955\n",
       "4   1.166133\n",
       "5   1.088079\n",
       "6  -1.253554\n",
       "7   1.088079\n",
       "8  -0.082738\n",
       "9   1.322242\n",
       "10 -0.629119\n",
       "11  0.463643\n",
       "12 -0.941336\n",
       "13 -1.253554\n",
       "14  1.322242\n",
       "15  3.429712\n",
       "16  0.385589\n",
       "17 -0.082738\n",
       "18 -0.707173\n",
       "19 -1.019391\n",
       "20 -0.316901\n",
       "21 -0.707173\n",
       "22 -0.941336\n",
       "23 -0.551064\n",
       "24  0.073371\n",
       "25  1.322242\n",
       "26 -0.160792\n",
       "27 -1.331609\n",
       "28 -0.941336\n",
       "29  0.619752\n",
       "30  0.697807\n",
       "31  0.697807\n",
       "32  0.697807\n",
       "33  0.931970\n",
       "34  0.541698\n",
       "35 -1.019391\n",
       "36 -1.097445\n",
       "37 -1.409663\n",
       "38 -1.175500\n",
       "39  1.010024\n",
       "40 -1.019391\n",
       "41 -0.004683\n",
       "42  0.697807\n",
       "43  0.853915\n",
       "44  1.088079\n",
       "45 -0.629119\n",
       "46 -1.019391\n",
       "47 -0.785228\n",
       "48 -0.238847\n",
       "49  0.775861"
      ]
     },
     "execution_count": 45,
     "metadata": {},
     "output_type": "execute_result"
    }
   ],
   "source": [
    "stats.zscore(df)"
   ]
  },
  {
   "cell_type": "code",
   "execution_count": 46,
   "metadata": {},
   "outputs": [
    {
     "data": {
      "text/plain": [
       "(array([15]), array([0]))"
      ]
     },
     "execution_count": 46,
     "metadata": {},
     "output_type": "execute_result"
    }
   ],
   "source": [
    "np.where(abs(stats.zscore(df)) > 3)"
   ]
  },
  {
   "cell_type": "code",
   "execution_count": 47,
   "metadata": {},
   "outputs": [
    {
     "data": {
      "text/plain": [
       "95"
      ]
     },
     "execution_count": 47,
     "metadata": {},
     "output_type": "execute_result"
    }
   ],
   "source": [
    "df.iloc[15,0]"
   ]
  },
  {
   "cell_type": "markdown",
   "metadata": {},
   "source": [
    "5. 1. We are investigating the time spent on our website by a group of visitors. We would like to know if the amount of time spent in seconds is greater than our competitor, who has published the mean time spent as 120 seconds. We have data for 100 of our website visitors: <br>\n",
    "```\n",
    "time_spent = np.array([139.43, 106.18, 158.65, 123.75, 115.59, 147.74, 147.19, 117.27,\n",
    "                       130.31,  85.15, 153., 149.84, 149.07,  89.57, 123.32, 130.04,\n",
    "                       138.11, 135.78, 156.42,  99.06, 125.95, 116.88, 133.87, 141.07,\n",
    "                       156.36, 120.61, 143.51,  93.66, 126.34, 151.18, 122.04, 136.75,\n",
    "                       150.95, 150.92, 147.27, 127.56, 132.49, 123.54, 146.83, 177.82,\n",
    "                       131.52, 118.67, 130.72,  88.5, 134.96, 112.06, 127.26, 130.37,\n",
    "                       145.11, 134.31, 146.82, 101.08, 101.96, 127.98, 119.04, 127.11,\n",
    "                       137.08, 129.29, 141.31, 160.91, 110.52, 128.59, 136.16, 125.83,\n",
    "                       150.68,  81.99, 170.61, 107.15, 134.24, 144.09, 114.29, 139.24,\n",
    "                       144.08, 140.47, 111.47, 170.16, 134.54, 106.95, 142.64, 130.79,\n",
    "                       139.29,  58.73, 156.42, 133.05, 133.29, 121.4, 145.35, 149.7,\n",
    "                       135.42, 157.84, 131.6, 122., 109.44, 118.31, 146.33, 128.36,\n",
    "                       123.1, 140.57, 108.62, 119.76])\n",
    "```    \n",
    "       <br>Plot the time spent on the website as a histogram. Choose an appropriate test to infer whether time spent on our website is truly different from our competitors. What is the Null hypothesis? What is the Alternative hypothesis? Perform the test. Can we reject the Null hypothesis?\n",
    "   2. Imagine we take a survey of adult and child preferences toward Pepsi and Coke. We asked 500 people total, 60% of whom were adults and 40% of whom were children. The adults preferred Coke at a 2:1 ratio and the children were evenly split between Coke and Pepsi. Construct the contingency table and run a the appropriate hypothesis test to see whether there is a significant relationship between a person's age and their soft drink preference. Remember to state your null and alternative hypotheses beforehand and draw a conclusion afterwards."
   ]
  },
  {
   "cell_type": "code",
   "execution_count": 48,
   "metadata": {},
   "outputs": [],
   "source": [
    "time_spent = np.array([139.43, 106.18, 158.65, 123.75, 115.59, 147.74, 147.19, 117.27,\n",
    "                 130.31,  85.15, 153., 149.84, 149.07,  89.57, 123.32, 130.04,\n",
    "                 138.11, 135.78, 156.42,  99.06, 125.95, 116.88, 133.87, 141.07,\n",
    "                 156.36, 120.61, 143.51,  93.66, 126.34, 151.18, 122.04, 136.75,\n",
    "                 150.95, 150.92, 147.27, 127.56, 132.49, 123.54, 146.83, 177.82,\n",
    "                 131.52, 118.67, 130.72,  88.5, 134.96, 112.06, 127.26, 130.37,\n",
    "                 145.11, 134.31, 146.82, 101.08, 101.96, 127.98, 119.04, 127.11,\n",
    "                 137.08, 129.29, 141.31, 160.91, 110.52, 128.59, 136.16, 125.83,\n",
    "                 150.68,  81.99, 170.61, 107.15, 134.24, 144.09, 114.29, 139.24,\n",
    "                 144.08, 140.47, 111.47, 170.16, 134.54, 106.95, 142.64, 130.79,\n",
    "                 139.29,  58.73, 156.42, 133.05, 133.29, 121.4, 145.35, 149.7,\n",
    "                 135.42, 157.84, 131.6, 122., 109.44, 118.31, 146.33, 128.36,\n",
    "                 123.1, 140.57, 108.62, 119.76])"
   ]
  },
  {
   "cell_type": "code",
   "execution_count": 49,
   "metadata": {
    "scrolled": true
   },
   "outputs": [
    {
     "data": {
      "text/html": [
       "<div>\n",
       "<style scoped>\n",
       "    .dataframe tbody tr th:only-of-type {\n",
       "        vertical-align: middle;\n",
       "    }\n",
       "\n",
       "    .dataframe tbody tr th {\n",
       "        vertical-align: top;\n",
       "    }\n",
       "\n",
       "    .dataframe thead th {\n",
       "        text-align: right;\n",
       "    }\n",
       "</style>\n",
       "<table border=\"1\" class=\"dataframe\">\n",
       "  <thead>\n",
       "    <tr style=\"text-align: right;\">\n",
       "      <th></th>\n",
       "      <th>Time</th>\n",
       "    </tr>\n",
       "  </thead>\n",
       "  <tbody>\n",
       "    <tr>\n",
       "      <th>0</th>\n",
       "      <td>139.43</td>\n",
       "    </tr>\n",
       "    <tr>\n",
       "      <th>1</th>\n",
       "      <td>106.18</td>\n",
       "    </tr>\n",
       "    <tr>\n",
       "      <th>2</th>\n",
       "      <td>158.65</td>\n",
       "    </tr>\n",
       "    <tr>\n",
       "      <th>3</th>\n",
       "      <td>123.75</td>\n",
       "    </tr>\n",
       "    <tr>\n",
       "      <th>4</th>\n",
       "      <td>115.59</td>\n",
       "    </tr>\n",
       "    <tr>\n",
       "      <th>...</th>\n",
       "      <td>...</td>\n",
       "    </tr>\n",
       "    <tr>\n",
       "      <th>95</th>\n",
       "      <td>128.36</td>\n",
       "    </tr>\n",
       "    <tr>\n",
       "      <th>96</th>\n",
       "      <td>123.10</td>\n",
       "    </tr>\n",
       "    <tr>\n",
       "      <th>97</th>\n",
       "      <td>140.57</td>\n",
       "    </tr>\n",
       "    <tr>\n",
       "      <th>98</th>\n",
       "      <td>108.62</td>\n",
       "    </tr>\n",
       "    <tr>\n",
       "      <th>99</th>\n",
       "      <td>119.76</td>\n",
       "    </tr>\n",
       "  </tbody>\n",
       "</table>\n",
       "<p>100 rows × 1 columns</p>\n",
       "</div>"
      ],
      "text/plain": [
       "      Time\n",
       "0   139.43\n",
       "1   106.18\n",
       "2   158.65\n",
       "3   123.75\n",
       "4   115.59\n",
       "..     ...\n",
       "95  128.36\n",
       "96  123.10\n",
       "97  140.57\n",
       "98  108.62\n",
       "99  119.76\n",
       "\n",
       "[100 rows x 1 columns]"
      ]
     },
     "execution_count": 49,
     "metadata": {},
     "output_type": "execute_result"
    }
   ],
   "source": [
    "time=pd.DataFrame(data=time_spent, columns=['Time'])\n",
    "time"
   ]
  },
  {
   "cell_type": "code",
   "execution_count": 50,
   "metadata": {},
   "outputs": [
    {
     "data": {
      "image/png": "[encoded data removed]",
      "text/plain": [
       "<Figure size 432x288 with 1 Axes>"
      ]
     },
     "metadata": {
      "needs_background": "light"
     },
     "output_type": "display_data"
    }
   ],
   "source": [
    "#Plot the time spent on the website as a histogram\n",
    "plt.figure()\n",
    "plt.hist(time['Time'], bins=20)\n",
    "plt.show()"
   ]
  },
  {
   "cell_type": "markdown",
   "metadata": {},
   "source": [
    "#What is the Null hypothesis? What is the Alternative hypothesis? \n",
    "H0= our time spent average is the same as the competitor\n",
    "Ha= time spent on our website > time spent on competitor's website"
   ]
  },
  {
   "cell_type": "code",
   "execution_count": 51,
   "metadata": {},
   "outputs": [],
   "source": [
    "# Choose an appropriate test to infer whether time spent on our website is truly different from our competitors. \n",
    "#one-sample ttest"
   ]
  },
  {
   "cell_type": "code",
   "execution_count": 52,
   "metadata": {},
   "outputs": [
    {
     "data": {
      "text/plain": [
       "Ttest_1sampResult(statistic=5.347286869284019, pvalue=5.746880238630438e-07)"
      ]
     },
     "execution_count": 52,
     "metadata": {},
     "output_type": "execute_result"
    }
   ],
   "source": [
    "#Perform the test. Can we reject the Null hypothesis?\n",
    "comp_time = 120\n",
    "stats.ttest_1samp(time['Time'], comp_time)"
   ]
  },
  {
   "cell_type": "code",
   "execution_count": 53,
   "metadata": {},
   "outputs": [],
   "source": [
    "#reject null. customers spend significanly more time on our website compared to the competitor'"
   ]
  },
  {
   "cell_type": "code",
   "execution_count": 54,
   "metadata": {},
   "outputs": [],
   "source": [
    "#Imagine we take a survey of adult and child preferences toward Pepsi and Coke. \n",
    "#We asked 500 people total, 60% of whom were adults and 40% of whom were children. \n",
    "#The adults preferred Coke at a 2:1 ratio and the children were evenly split between Coke and Pepsi. \n",
    "#Construct the contingency table and run a the appropriate hypothesis test to see whether there is \n",
    "#a significant relationship between a person's age and their soft drink preference. \n",
    "#Remember to state your null and alternative hypotheses beforehand and draw a conclusion afterwards."
   ]
  },
  {
   "cell_type": "code",
   "execution_count": 55,
   "metadata": {},
   "outputs": [
    {
     "data": {
      "text/html": [
       "<div>\n",
       "<style scoped>\n",
       "    .dataframe tbody tr th:only-of-type {\n",
       "        vertical-align: middle;\n",
       "    }\n",
       "\n",
       "    .dataframe tbody tr th {\n",
       "        vertical-align: top;\n",
       "    }\n",
       "\n",
       "    .dataframe thead th {\n",
       "        text-align: right;\n",
       "    }\n",
       "</style>\n",
       "<table border=\"1\" class=\"dataframe\">\n",
       "  <thead>\n",
       "    <tr style=\"text-align: right;\">\n",
       "      <th></th>\n",
       "      <th>pepsi</th>\n",
       "      <th>coke</th>\n",
       "    </tr>\n",
       "  </thead>\n",
       "  <tbody>\n",
       "    <tr>\n",
       "      <th>adult</th>\n",
       "      <td>100</td>\n",
       "      <td>200</td>\n",
       "    </tr>\n",
       "    <tr>\n",
       "      <th>child</th>\n",
       "      <td>100</td>\n",
       "      <td>100</td>\n",
       "    </tr>\n",
       "  </tbody>\n",
       "</table>\n",
       "</div>"
      ],
      "text/plain": [
       "       pepsi  coke\n",
       "adult    100   200\n",
       "child    100   100"
      ]
     },
     "execution_count": 55,
     "metadata": {},
     "output_type": "execute_result"
    }
   ],
   "source": [
    "drink = pd.DataFrame(data=([100,200],[100,100]), columns=['pepsi','coke'], index=['adult','child'])\n",
    "drink"
   ]
  },
  {
   "cell_type": "code",
   "execution_count": 56,
   "metadata": {},
   "outputs": [
    {
     "data": {
      "text/plain": [
       "(13.203125,\n",
       " 0.0002794827113761392,\n",
       " 1,\n",
       " array([[120., 180.],\n",
       "        [ 80., 120.]]))"
      ]
     },
     "execution_count": 56,
     "metadata": {},
     "output_type": "execute_result"
    }
   ],
   "source": [
    "stats.chi2_contingency(drink)"
   ]
  },
  {
   "cell_type": "code",
   "execution_count": 57,
   "metadata": {},
   "outputs": [],
   "source": [
    "# there is a relationship between age and drink preference "
   ]
  },
  {
   "cell_type": "markdown",
   "metadata": {},
   "source": [
    "<div id=\"container\" style=\"position:relative;\">\n",
    "<div style=\"position:relative; float:right\"><img style=\"height:25px\"\"width: 50px\" src =\"https://drive.google.com/uc?export=view&id=14VoXUJftgptWtdNhtNYVm6cjVmEWpki1\" />\n",
    "</div>\n",
    "</div>"
   ]
  }
 ],
 "metadata": {
  "colab": {
   "name": "Unit 06 - Statistics and Probability.ipynb",
   "provenance": [],
   "version": "0.3.2"
  },
  "kernelspec": {
   "display_name": "Python 3 (ipykernel)",
   "language": "python",
   "name": "python3"
  },
  "language_info": {
   "codemirror_mode": {
    "name": "ipython",
    "version": 3
   },
   "file_extension": ".py",
   "mimetype": "text/x-python",
   "name": "python",
   "nbconvert_exporter": "python",
   "pygments_lexer": "ipython3",
   "version": "3.9.7"
  }
 },
 "nbformat": 4,
 "nbformat_minor": 4
}
